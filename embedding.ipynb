{
 "cells": [
  {
   "cell_type": "code",
   "execution_count": 1,
   "metadata": {},
   "outputs": [],
   "source": [
    "from story_sage.utils.embedding import Embedder, load_chunk_from_disk, embed_documents\n",
    "from story_sage.story_sage_entity import *\n",
    "from story_sage.data_classes.story_sage_series import StorySageSeries\n",
    "import yaml\n",
    "import glob\n",
    "import chromadb\n",
    "\n",
    "with open('./entities/entities.json', 'r') as f:\n",
    "    entity_json = json.load(f)\n",
    "    entity_collection = {key: StorySageEntityCollection.from_dict(value) for key, value in entity_json.items()}\n",
    "\n",
    "with open('./series_prod.yml', 'r') as f:\n",
    "    series_dict = yaml.safe_load(f.read())\n",
    "\n",
    "\n",
    "chroma_client = chromadb.PersistentClient(path='./chroma_data')\n",
    "embedder = Embedder()\n",
    "vector_store = chroma_client.get_or_create_collection('story_sage', embedding_function=embedder)\n",
    "\n",
    "\n",
    "def load_chunks_from_glob(glob_path):\n",
    "    doc_collection = []\n",
    "    for chunk_path in glob.glob(glob_path):\n",
    "        doc_collection.extend(load_chunk_from_disk(chunk_path))\n",
    "    return doc_collection\n",
    "\n",
    "doc_collection = load_chunks_from_glob('./chunks/wheel_of_time/semantic_chunks/*.pkl')"
   ]
  },
  {
   "cell_type": "code",
   "execution_count": 2,
   "metadata": {},
   "outputs": [],
   "source": [
    "series_info = [StorySageSeries.from_dict(series) for series in series_dict]"
   ]
  },
  {
   "cell_type": "code",
   "execution_count": 3,
   "metadata": {},
   "outputs": [
    {
     "data": {
      "application/vnd.jupyter.widget-view+json": {
       "model_id": "4a51608a91674844ba96d7fb1b33600a",
       "version_major": 2,
       "version_minor": 0
      },
      "text/plain": [
       "Identifying characters in documents:   0%|          | 0/20412 [00:00<?, ?it/s]"
      ]
     },
     "metadata": {},
     "output_type": "display_data"
    },
    {
     "data": {
      "application/vnd.jupyter.widget-view+json": {
       "model_id": "af7f277ecce94b8f920d4547a8b39339",
       "version_major": 2,
       "version_minor": 0
      },
      "text/plain": [
       "Upserting documents in batches:   0%|          | 0/21 [00:00<?, ?it/s]"
      ]
     },
     "metadata": {},
     "output_type": "display_data"
    }
   ],
   "source": [
    "embed_documents(doc_collection=doc_collection, vector_store=vector_store, series_id=3, entity_collection=entity_collection['wheel_of_time'])"
   ]
  }
 ],
 "metadata": {
  "kernelspec": {
   "display_name": "story_sage_env",
   "language": "python",
   "name": "python3"
  },
  "language_info": {
   "codemirror_mode": {
    "name": "ipython",
    "version": 3
   },
   "file_extension": ".py",
   "mimetype": "text/x-python",
   "name": "python",
   "nbconvert_exporter": "python",
   "pygments_lexer": "ipython3",
   "version": "3.11.4"
  }
 },
 "nbformat": 4,
 "nbformat_minor": 2
}
