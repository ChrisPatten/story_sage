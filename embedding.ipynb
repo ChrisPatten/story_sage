{
 "cells": [
  {
   "cell_type": "code",
   "execution_count": 4,
   "metadata": {},
   "outputs": [],
   "source": [
    "from story_sage.utils.embedding import Embedder, load_chunk_from_disk, embed_documents\n",
    "from story_sage.story_sage_entity import *\n",
    "from story_sage.data_classes.story_sage_series import StorySageSeries\n",
    "import yaml\n",
    "import glob\n",
    "import chromadb\n",
    "\n",
    "series_metadata_name = 'wheel_of_time'\n",
    "\n",
    "with open('./entities/entities.json', 'r') as f:\n",
    "    entity_json = json.load(f)\n",
    "    entity_collection = {key: StorySageEntityCollection.from_dict(value) for key, value in entity_json.items()}\n",
    "\n",
    "with open('./series_prod.yml', 'r') as f:\n",
    "    series_dict = yaml.safe_load(f.read())\n",
    "\n",
    "\n",
    "chroma_client = chromadb.PersistentClient(path='./chroma_data')\n",
    "embedder = Embedder()\n",
    "vector_store = chroma_client.get_or_create_collection('story_sage', embedding_function=embedder)\n",
    "\n",
    "\n",
    "def load_chunks_from_glob(glob_path):\n",
    "    doc_collection = []\n",
    "    for chunk_path in glob.glob(glob_path):\n",
    "        doc_collection.extend(load_chunk_from_disk(chunk_path))\n",
    "    return doc_collection\n",
    "\n",
    "doc_collection = load_chunks_from_glob(f'./chunks/{series_metadata_name}/semantic_chunks/*.json')"
   ]
  },
  {
   "cell_type": "code",
   "execution_count": 5,
   "metadata": {},
   "outputs": [],
   "source": [
    "series_info = [StorySageSeries.from_dict(series) for series in series_dict]"
   ]
  },
  {
   "cell_type": "code",
   "execution_count": 7,
   "metadata": {},
   "outputs": [
    {
     "name": "stdout",
     "output_type": "stream",
     "text": [
      "Processing series wheel_of_time with id 3\n"
     ]
    }
   ],
   "source": [
    "series_id = [series.series_id for series in series_info if series.series_metadata_name == series_metadata_name][0]\n",
    "print(f'Processing series {series_metadata_name} with id {series_id}')"
   ]
  },
  {
   "cell_type": "code",
   "execution_count": 8,
   "metadata": {},
   "outputs": [
    {
     "data": {
      "application/vnd.jupyter.widget-view+json": {
       "model_id": "2c9501c72f3848dda53385f018a2e7d4",
       "version_major": 2,
       "version_minor": 0
      },
      "text/plain": [
       "Identifying characters in documents:   0%|          | 0/21896 [00:00<?, ?it/s]"
      ]
     },
     "metadata": {},
     "output_type": "display_data"
    },
    {
     "data": {
      "application/vnd.jupyter.widget-view+json": {
       "model_id": "7d324f3274914a6cbb848b6da80a2dbb",
       "version_major": 2,
       "version_minor": 0
      },
      "text/plain": [
       "Upserting documents in batches:   0%|          | 0/22 [00:00<?, ?it/s]"
      ]
     },
     "metadata": {},
     "output_type": "display_data"
    }
   ],
   "source": [
    "embed_documents(doc_collection=doc_collection, vector_store=vector_store, series_id=series_id, entity_collection=entity_collection[series_metadata_name])"
   ]
  }
 ],
 "metadata": {
  "kernelspec": {
   "display_name": "story_sage_env",
   "language": "python",
   "name": "python3"
  },
  "language_info": {
   "codemirror_mode": {
    "name": "ipython",
    "version": 3
   },
   "file_extension": ".py",
   "mimetype": "text/x-python",
   "name": "python",
   "nbconvert_exporter": "python",
   "pygments_lexer": "ipython3",
   "version": "3.11.4"
  }
 },
 "nbformat": 4,
 "nbformat_minor": 2
}
