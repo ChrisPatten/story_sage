{
 "cells": [
  {
   "cell_type": "code",
   "execution_count": 1,
   "metadata": {},
   "outputs": [],
   "source": [
    "#pip install --no-cache-dir jupyter langchain_openai langchain_community langchain langgraph faiss-cpu sentence-transformers ipywidgets transformers nltk scikit-learn matplotlib markdown langchain_chroma\n",
    "\n",
    "import yaml\n",
    "import ipywidgets as widgets\n",
    "from IPython.display import display\n",
    "import pickle\n",
    "import markdown\n",
    "import glob\n",
    "import re\n",
    "import os"
   ]
  },
  {
   "cell_type": "code",
   "execution_count": 3,
   "metadata": {},
   "outputs": [
    {
     "name": "stderr",
     "output_type": "stream",
     "text": [
      "2024-12-18 07:14:34,142 - story_sage.story_sage - DEBUG - Logger initialized from parent.\n",
      "2024-12-18 07:14:34,142 - story_sage.story_sage - DEBUG - Logger initialized from parent.\n"
     ]
    }
   ],
   "source": [
    "import logging\n",
    "from story_sage.story_sage import StorySage\n",
    "\n",
    "# Configure the logger\n",
    "\n",
    "logger = logging.getLogger('story_sage')\n",
    "logger.setLevel(logging.DEBUG)\n",
    "# Create a console handler\n",
    "console_handler = logging.StreamHandler()\n",
    "console_handler.setLevel(logging.INFO)\n",
    "\n",
    "# Create a formatter and set it for the handler\n",
    "formatter = logging.Formatter('%(asctime)s - %(name)s - %(levelname)s - %(message)s')\n",
    "console_handler.setFormatter(formatter)\n",
    "\n",
    "# Add the handler to the logger\n",
    "logger.addHandler(console_handler)\n",
    "\n",
    "# Filter out logs from other modules\n",
    "class StorySageFilter(logging.Filter):\n",
    "    def filter(self, record):\n",
    "        return record.name.startswith('story_sage')\n",
    "\n",
    "logger.addFilter(StorySageFilter())\n",
    "\n",
    "\n",
    "\n",
    "with open('config.yml', 'r') as file:\n",
    "    config = yaml.safe_load(file)\n",
    "\n",
    "api_key = config['OPENAI_API_KEY']\n",
    "chroma_path = config['CHROMA_PATH']\n",
    "chroma_collection = config['CHROMA_COLLECTION']\n",
    "\n",
    "# Load series.yml to create a mapping from series_metadata_name to series_id\n",
    "with open('series.yml', 'r') as file:\n",
    "    series_list = yaml.safe_load(file)\n",
    "metadata_to_id = {series['series_metadata_name']: series['series_id'] for series in series_list}\n",
    "\n",
    "# Load all character dictionaries and merge them using the metadata_to_id mapping\n",
    "# Load entities.json\n",
    "with open('entities.json', 'r') as file:\n",
    "    entities = yaml.safe_load(file)\n",
    "\n",
    "story_sage = StorySage(\n",
    "    api_key=api_key,\n",
    "    chroma_path=chroma_path,\n",
    "    chroma_collection_name=chroma_collection,\n",
    "    entities=entities,\n",
    "    series_yml_path='series.yml',\n",
    "    n_chunks=10\n",
    ")\n",
    "\n",
    "\n",
    "# Add a handler to the StorySage logger\n",
    "story_sage.logger = logger\n",
    "\n",
    "def invoke_story_sage(data: dict):\n",
    "    required_keys = ['question', 'book_number', 'chapter_number', 'series_id']\n",
    "    if not all(key in data for key in required_keys):\n",
    "        return {'error': f'Missing parameter! Request must include {\", \".join(required_keys)}'}, 400\n",
    "\n",
    "    try:\n",
    "        result, context = story_sage.invoke(**data)\n",
    "        return result, context\n",
    "    except Exception as e:\n",
    "        raise e\n",
    "        return {'error': 'Internal server error.'}, 500\n"
   ]
  },
  {
   "cell_type": "code",
   "execution_count": 3,
   "metadata": {},
   "outputs": [
    {
     "name": "stderr",
     "output_type": "stream",
     "text": [
      "2024-12-16 22:14:32,618 - story_sage.story_sage_retriever - INFO - {'$and': [{'$or': [{'book_number': {'$lt': 2}}, {'$and': [{'book_number': 2}, {'chapter_number': {'$lt': 1}}]}]}, {'$and': [{'p_3_6': True}, {'a_3_19': True}]}]}\n"
     ]
    },
    {
     "name": "stdout",
     "output_type": "stream",
     "text": [
      "- Rand's horse is named Bela. \n",
      "  - \"Rand moved his horse close to Bela and touched her shoulder.\" (Book 1, Chapter 45)\n"
     ]
    }
   ],
   "source": [
    "data = {\n",
    "    'question': \"what is the name of rand's horse?\",\n",
    "    'book_number': 2,\n",
    "    'chapter_number': 1,\n",
    "    'series_id': 3\n",
    "}\n",
    "\n",
    "if False:\n",
    "    response, context = invoke_story_sage(data)\n",
    "    print(response)"
   ]
  },
  {
   "cell_type": "code",
   "execution_count": 4,
   "metadata": {},
   "outputs": [],
   "source": [
    "import chromadb\n",
    "from story_sage.story_sage_embedder import StorySageEmbedder\n",
    "from langchain.embeddings import SentenceTransformerEmbeddings\n",
    "class EmbeddingAdapter(SentenceTransformerEmbeddings):\n",
    "\n",
    "    def __init__(self, *args, **kwargs):\n",
    "        super().__init__(*args, **kwargs)\n",
    "\n",
    "    def _embed_documents(self, texts):\n",
    "        return super().embed_documents(texts)  \n",
    "\n",
    "    def __call__(self, input):\n",
    "        return self._embed_documents(input)  \n",
    "\n",
    "embedder = EmbeddingAdapter\n",
    "client = chromadb.PersistentClient(path=chroma_path)\n",
    "vector_store = client.get_collection(name=chroma_collection)"
   ]
  },
  {
   "cell_type": "code",
   "execution_count": 5,
   "metadata": {},
   "outputs": [
    {
     "data": {
      "text/plain": [
       "{'ids': [['3_1_4_25', '3_1_24_12', '3_1_2_15', '3_1_7_15', '3_1_21_29']],\n",
       " 'embeddings': None,\n",
       " 'documents': [['“I want to see you eat fire.” “The harp!” a voice cried from the crowd. “Play the harp!” Someone else called for the flute. At that moment the door of the inn opened and the Village Council trundled out, Nynaeve in their midst. Padan Fain was not with them, Rand saw; apparently the peddler had decided to remain in the warm common room with his mulled wine. Muttering about “a strong brandy,” Thom Merrilin abruptly jumped down from the old foundation. He ignored the cries of those who had been watching him, pressing inside past the Councilors before they were well out of the doorway. “Is he supposed to be a gleeman or a king?” Cenn Buie asked in annoyed tones. “A waste of good money, if you ask me.” Bran al’Vere half turned after the gleeman, then shook his head. “That man may be more trouble than he’s worth.” Nynaeve, busy gathering her cloak around her, sniffed loudly. “Worry about the gleeman if you want, Brandelwyn al’Vere. At least he is in Emond’s Field, which is more than you can say for this false Dragon. But as long as you are worrying, there are others here who should excite your worry.” “If you please, Wisdom,” Bran said stiffly, “kindly leave who should worry me to my deciding. Mistress Moiraine and Master Lan are guests in my inn, and decent, respectable folk, so I say. Neither of them has called me a fool in front of the whole Council. Neither of them has told the Council it hasn’t a full set of wits among them.” “It seems my estimate was too high by half,” Nynaeve retorted. She strode away without a backward glance, leaving Bran’s jaw working as he searched for a reply. Egwene looked at Rand as if she were going to speak, then darted after the Wisdom instead. Rand knew there must be some way to stop her from leaving the Two Rivers, but the only way he could think of was not one he was prepared to take, even if she was willing. And she had as much as said she was not willing at all, which made him feel even worse. “That young woman wants a husband,” Cenn Buie growled, bouncing on his toes.',\n",
       "   'Ba’alzamon’s face. One face. Rand jerked, and opened his eyes. Darkness, lessened only slightly by a pale light. Barely breathing, he moved nothing except his eyes. A rough wool blanket covered him to his shoulders, and his head was cradled on his arms. He could feel smooth wooden planks under his hands. Deck planks. Rigging creaked in the night. He let out a long breath. He was on the Spray. It was over . . .',\n",
       "   '. oh, I don’t know what all. Anyway, Nynaeve answered like she’d bitten a green sweetberry. Then, when the Lady Moiraine walked away, Nynaeve stared after her like, like . . . well, it wasn’t friendly, I can tell you that.” “Is that all?” Rand said. “You know Nynaeve’s temper. When Cenn Buie called her a child last year, she thumped him on the head with her stick, and he’s on the Village Council, and old enough to be her grandfather, besides. She flares up at anything, and never stays angry past turning around.” “That’s too long for me,” Ewin muttered. “I don’t care who Nynaeve thumps”—Mat chortled—“so long as it isn’t me. This is going to be the best Bel Tine ever. A gleeman, a lady—who could ask for more? Who needs fireworks?” “A gleeman?” Ewin said, his voice rising sharply. “Come on, Rand,” Mat went on, ignoring the younger boy. “We’re done here. You have to see this fellow.” He bounded up the stairs, with Ewin scrambling behind him calling, “Is there really a gleeman, Mat? This isn’t like the ghost hounds, is it? Or the frogs?” Rand paused long enough to turn down the lamp, then hurried after them. In the common room Rowan Hum and Samel Crawe had joined the others in front of the fire, so that the entire Village Council was there. Bran al’Vere spoke now, his normally bluff voice pitched so low that only a rumbling murmur traveled beyond the close-gathered chairs. The Mayor emphasized his words by tapping a thick forefinger into the palm of his other hand, and eyed each man in turn. They all nodded in agreement with whatever he was saying, though Cenn more reluctantly than the rest.',\n",
       "   'Suddenly his face hardened. “The Mayor will know what to do,” he said, lifting the shafts once more. “The Mayor will know.” Bran al’Vere always knew what to do. With weary obstinacy he set out for the Winespring Inn. Another of the Dhurran stallions passed him, its harness straps tied around the ankles of a big shape draped with a dirty blanket.',\n",
       "   '“Oh, yes, I will be going with you. You cannot keep me from it.” “No one will try to keep you from it,” Lan said as he rejoined them. He emptied the tea kettle over the fire and stirred the ashes with a stick. “A part of the Pattern?” he said to Moiraine. “Perhaps so,” she replied thoughtfully. “I should have spoken to Min again.” “You see, Nynaeve, you are welcome to come.” There was a hesitation in the way Lan said her name, a hint of an unspoken “Sedai” after it. Nynaeve bristled, taking it for mockery, and bristled, too, at the way they spoke of things in front of her—things she knew nothing about—without the courtesy of an explanation, but she would not give them the satisfaction of asking. The Warder went on preparing for departure, his economical motions so sure and swift that he was quickly done, saddlebags, blankets, and all fastened behind the saddles of Mandarb and Aldieb. “I will fetch your horse,” he told Nynaeve as he finished with the last saddle tie. He started up the riverbank, and she allowed herself a small smile. After the way she had watched him undiscovered, he was going to try to find her horse unaided.']],\n",
       " 'uris': None,\n",
       " 'data': None,\n",
       " 'metadatas': [[{'3_e_126': True,\n",
       "    '3_e_15': True,\n",
       "    '3_e_201': True,\n",
       "    '3_e_236': True,\n",
       "    '3_e_243': True,\n",
       "    '3_e_273': True,\n",
       "    '3_e_279': True,\n",
       "    '3_e_328': True,\n",
       "    '3_e_357': True,\n",
       "    '3_e_363': True,\n",
       "    '3_e_401': True,\n",
       "    '3_e_404': True,\n",
       "    '3_e_43': True,\n",
       "    '3_e_438': True,\n",
       "    '3_e_464': True,\n",
       "    '3_e_488': True,\n",
       "    '3_e_526': True,\n",
       "    '3_e_537': True,\n",
       "    '3_e_60': True,\n",
       "    '3_e_79': True,\n",
       "    '3_p_470': True,\n",
       "    'book_number': 1,\n",
       "    'chapter_number': 4,\n",
       "    'series_id': 3},\n",
       "   {'3_e_110': True,\n",
       "    '3_e_186': True,\n",
       "    '3_e_203': True,\n",
       "    '3_e_270': True,\n",
       "    '3_e_273': True,\n",
       "    '3_e_326': True,\n",
       "    '3_e_328': True,\n",
       "    '3_e_363': True,\n",
       "    '3_e_460': True,\n",
       "    '3_e_488': True,\n",
       "    '3_e_526': True,\n",
       "    '3_p_470': True,\n",
       "    'book_number': 1,\n",
       "    'chapter_number': 24,\n",
       "    'series_id': 3},\n",
       "   {'3_e_101': True,\n",
       "    '3_e_236': True,\n",
       "    '3_e_266': True,\n",
       "    '3_e_273': True,\n",
       "    '3_e_328': True,\n",
       "    '3_e_349': True,\n",
       "    '3_e_353': True,\n",
       "    '3_e_363': True,\n",
       "    '3_e_371': True,\n",
       "    '3_e_39': True,\n",
       "    '3_e_40': True,\n",
       "    '3_e_428': True,\n",
       "    '3_e_438': True,\n",
       "    '3_e_447': True,\n",
       "    '3_e_449': True,\n",
       "    '3_e_488': True,\n",
       "    '3_e_526': True,\n",
       "    '3_e_537': True,\n",
       "    '3_e_79': True,\n",
       "    '3_e_80': True,\n",
       "    '3_p_470': True,\n",
       "    'book_number': 1,\n",
       "    'chapter_number': 2,\n",
       "    'series_id': 3},\n",
       "   {'3_e_100': True,\n",
       "    '3_e_110': True,\n",
       "    '3_e_203': True,\n",
       "    '3_e_273': True,\n",
       "    '3_e_328': True,\n",
       "    '3_e_332': True,\n",
       "    '3_e_347': True,\n",
       "    '3_e_363': True,\n",
       "    '3_e_427': True,\n",
       "    '3_e_522': True,\n",
       "    '3_e_526': True,\n",
       "    '3_p_470': True,\n",
       "    'book_number': 1,\n",
       "    'chapter_number': 7,\n",
       "    'series_id': 3},\n",
       "   {'3_e_110': True,\n",
       "    '3_e_147': True,\n",
       "    '3_e_15': True,\n",
       "    '3_e_203': True,\n",
       "    '3_e_273': True,\n",
       "    '3_e_282': True,\n",
       "    '3_e_283': True,\n",
       "    '3_e_311': True,\n",
       "    '3_e_328': True,\n",
       "    '3_e_347': True,\n",
       "    '3_e_353': True,\n",
       "    '3_e_363': True,\n",
       "    '3_e_364': True,\n",
       "    '3_e_39': True,\n",
       "    '3_e_405': True,\n",
       "    '3_e_438': True,\n",
       "    '3_e_460': True,\n",
       "    '3_e_467': True,\n",
       "    '3_e_526': True,\n",
       "    '3_p_470': True,\n",
       "    'book_number': 1,\n",
       "    'chapter_number': 21,\n",
       "    'series_id': 3}]],\n",
       " 'distances': None,\n",
       " 'included': [<IncludeEnum.documents: 'documents'>,\n",
       "  <IncludeEnum.metadatas: 'metadatas'>]}"
      ]
     },
     "execution_count": 5,
     "metadata": {},
     "output_type": "execute_result"
    }
   ],
   "source": [
    "filter_dict = {'$and': [\n",
    "                {'$or': [\n",
    "                    {'book_number': {'$lt': 1}},\n",
    "                    {'$and': [\n",
    "                        {'book_number': 1}, \n",
    "                        {'chapter_number': {'$lt': 25}}\n",
    "                    ]}\n",
    "                ]}, \n",
    "                {'a_3_12': True}\n",
    "               ]}\n",
    "\n",
    "filter_dict = {'$or': [\n",
    "                    {'book_number': {'$lt': 1}},\n",
    "                    {'$and': [\n",
    "                        {'book_number': 1}, \n",
    "                        {'chapter_number': {'$lt': 25}}\n",
    "                    ]}\n",
    "                ]}\n",
    "#client.delete_collection('wot_retriever_test')\n",
    "vector_store.query(query_texts=['harry'],\n",
    "                   n_results=5,\n",
    "                   where=filter_dict,\n",
    "                   include=['metadatas','documents'])"
   ]
  },
  {
   "cell_type": "code",
   "execution_count": 5,
   "metadata": {},
   "outputs": [
    {
     "name": "stderr",
     "output_type": "stream",
     "text": [
      "2024-12-16 20:31:30,984 - story_sage - DEBUG - Invoking StorySage with question: Explain the interactions between Cenn and Rand, book_number: 2, chapter_number: 1, series_id: 3\n",
      "2024-12-16 20:31:30,984 - story_sage - DEBUG - Invoking StorySage with question: Explain the interactions between Cenn and Rand, book_number: 2, chapter_number: 1, series_id: 3\n",
      "2024-12-16 20:31:30,986 - story_sage.story_sage_chain - DEBUG - Extracting characters from question.\n",
      "2024-12-16 20:31:30,986 - story_sage.story_sage_chain - DEBUG - Extracting characters from question.\n",
      "2024-12-16 20:31:30,987 - story_sage.story_sage_chain - DEBUG - Series ID found in state.\n",
      "2024-12-16 20:31:30,987 - story_sage.story_sage_chain - DEBUG - Series ID found in state.\n"
     ]
    },
    {
     "name": "stdout",
     "output_type": "stream",
     "text": [
      "{'error': 'Internal server error.'}\n"
     ]
    }
   ],
   "source": [
    "data = {\n",
    "    'question': 'Explain the interactions between Cenn and Rand',\n",
    "    'book_number': 2,\n",
    "    'chapter_number': 1,\n",
    "    'series_id': 3\n",
    "}\n",
    "\n",
    "response, context = invoke_story_sage(data)\n",
    "print(response)"
   ]
  },
  {
   "cell_type": "code",
   "execution_count": 5,
   "metadata": {},
   "outputs": [
    {
     "data": {
      "application/vnd.jupyter.widget-view+json": {
       "model_id": "417c4ae5b2394aaa8d32ed6556f9020a",
       "version_major": 2,
       "version_minor": 0
      },
      "text/plain": [
       "HTML(value=\"<link rel='stylesheet' href='https://cdnjs.cloudflare.com/ajax/libs/font-awesome/4.7.0/css/font-aw…"
      ]
     },
     "metadata": {},
     "output_type": "display_data"
    },
    {
     "data": {
      "application/vnd.jupyter.widget-view+json": {
       "model_id": "f074371058e648a1ad5d407616453d6a",
       "version_major": 2,
       "version_minor": 0
      },
      "text/plain": [
       "Output(layout=Layout(min_height='50px'))"
      ]
     },
     "metadata": {},
     "output_type": "display_data"
    },
    {
     "data": {
      "application/vnd.jupyter.widget-view+json": {
       "model_id": "95a337d9aab3401991f11c4b3eef94bd",
       "version_major": 2,
       "version_minor": 0
      },
      "text/plain": [
       "IntText(value=10, description='Book Number:')"
      ]
     },
     "metadata": {},
     "output_type": "display_data"
    },
    {
     "data": {
      "application/vnd.jupyter.widget-view+json": {
       "model_id": "49ca7ce6192a4c72bf7a5433573c9563",
       "version_major": 2,
       "version_minor": 0
      },
      "text/plain": [
       "IntText(value=0, description='Chapter Number:')"
      ]
     },
     "metadata": {},
     "output_type": "display_data"
    },
    {
     "data": {
      "application/vnd.jupyter.widget-view+json": {
       "model_id": "5e994ca16674494983c4a5153455cc96",
       "version_major": 2,
       "version_minor": 0
      },
      "text/plain": [
       "Text(value='', continuous_update=False, description='Question:', placeholder='Type your question here...')"
      ]
     },
     "metadata": {},
     "output_type": "display_data"
    },
    {
     "data": {
      "application/vnd.jupyter.widget-view+json": {
       "model_id": "75fef215036b4fceac237e5bf53c87d8",
       "version_major": 2,
       "version_minor": 0
      },
      "text/plain": [
       "Button(description='Submit', icon='check', style=ButtonStyle(), tooltip='Click to submit your question')"
      ]
     },
     "metadata": {},
     "output_type": "display_data"
    },
    {
     "data": {
      "application/vnd.jupyter.widget-view+json": {
       "model_id": "2f1a344020e34b29a88e0dddec567ef4",
       "version_major": 2,
       "version_minor": 0
      },
      "text/plain": [
       "Output(layout=Layout(min_height='200px'))"
      ]
     },
     "metadata": {},
     "output_type": "display_data"
    },
    {
     "data": {
      "application/vnd.jupyter.widget-view+json": {
       "model_id": "70436523f3f7480f81e97d46321e893d",
       "version_major": 2,
       "version_minor": 0
      },
      "text/plain": [
       "Output(layout=Layout(min_height='200px'))"
      ]
     },
     "metadata": {},
     "output_type": "display_data"
    }
   ],
   "source": [
    "# Define the input and output widgets\n",
    "input_box = widgets.Text(\n",
    "    value='',\n",
    "    placeholder='Type your question here...',\n",
    "    description='Question:',\n",
    "    continuous_update=False,\n",
    "    disabled=False\n",
    ")\n",
    "\n",
    "submit_button = widgets.Button(\n",
    "    description='Submit',\n",
    "    disabled=False,\n",
    "    button_style='',\n",
    "    tooltip='Click to submit your question',\n",
    "    icon='check'\n",
    ")\n",
    "\n",
    "book_number_box = widgets.IntText(\n",
    "    value=10,\n",
    "    description='Book Number:',\n",
    "    disabled=False\n",
    ")\n",
    "\n",
    "chapter_number_box = widgets.IntText(\n",
    "    value=None,\n",
    "    description='Chapter Number:',\n",
    "    disabled=False\n",
    ")\n",
    "\n",
    "status_box = widgets.Output(layout={'min_height': '50px'})\n",
    "output_box = widgets.Output(layout={'min_height': '200px'})\n",
    "context_box = widgets.Output(layout={'min_height': '200px'})\n",
    "\n",
    "# Create a spinner widget\n",
    "spinner = widgets.HTML(\n",
    "    value=\"\"\"<i class=\"fa fa-spinner fa-spin\" style=\"font-size:24px; color:#2a9df4;\"></i>\"\"\",\n",
    "    placeholder='Loading...',\n",
    "    description=''\n",
    ")\n",
    "\n",
    "# Make sure Font Awesome is available\n",
    "display(widgets.HTML(\"<link rel='stylesheet' href='https://cdnjs.cloudflare.com/ajax/libs/font-awesome/4.7.0/css/font-awesome.min.css'>\"))\n",
    "\n",
    "def wrap_answer(answer):\n",
    "    html = markdown.markdown(answer)\n",
    "    return f\"<div style='background-color: #f9f9f9; padding: 10px; border-radius: 5px;'>{html}</div>\"\n",
    "\n",
    "def show_results(answer, context):\n",
    "    with output_box:\n",
    "        output_box_contents = []\n",
    "        output_box_contents.append(\"<h3>Answer</h3>\")\n",
    "        output_box_contents.append(wrap_answer(answer))\n",
    "        display(widgets.HTML(''.join(output_box_contents)))\n",
    "        with context_box:\n",
    "            context_box.clear_output()\n",
    "            context_box_contents = []\n",
    "            context_box_contents.append(\"<h3>Context</h3>\")\n",
    "            for idx in range(len(context['metadatas'])):\n",
    "                meta = context['metadatas'][0][idx]\n",
    "                content = context['documents'][0][idx]\n",
    "                context_box_contents.append(f\"<p><strong>Book Number:</strong> {meta['book_number']} <strong>Chapter Number:</strong> {meta['chapter_number']}</p>\")\n",
    "                context_box_contents.append(f\"<p>{content}</p>\")\n",
    "            display(widgets.HTML(wrap_answer(\"\".join(context_box_contents))))\n",
    "\n",
    "    \n",
    "\n",
    "# Define the function to handle the button click\n",
    "def submit_question(b):\n",
    "    with status_box:\n",
    "        status_box.clear_output()\n",
    "        display(widgets.HTML(f\"<h3>Retrieving top relevant chunks...</h3>\"))\n",
    "        with output_box:\n",
    "            output_box.clear_output()\n",
    "            display(spinner)\n",
    "            answer, context = story_sage.invoke(\n",
    "                question = input_box.value,\n",
    "                book_number = book_number_box.value,\n",
    "                chapter_number = chapter_number_box.value\n",
    "            )\n",
    "            output_box.clear_output()\n",
    "    show_results(answer, context)\n",
    "\n",
    "# Attach the handler to the button\n",
    "submit_button._click_handlers.callbacks.clear()\n",
    "submit_button.on_click(submit_question)\n",
    "\n",
    "# Attach the handler to the input box for the return key\n",
    "#input_box.observe(submit_question)\n",
    "\n",
    "# Display the widgets\n",
    "display(status_box, book_number_box, chapter_number_box, input_box, submit_button, output_box, context_box)"
   ]
  }
 ],
 "metadata": {
  "kernelspec": {
   "display_name": "story_sage_env",
   "language": "python",
   "name": "python3"
  },
  "language_info": {
   "codemirror_mode": {
    "name": "ipython",
    "version": 3
   },
   "file_extension": ".py",
   "mimetype": "text/x-python",
   "name": "python",
   "nbconvert_exporter": "python",
   "pygments_lexer": "ipython3",
   "version": "3.11.4"
  }
 },
 "nbformat": 4,
 "nbformat_minor": 2
}
