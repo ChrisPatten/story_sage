{
 "cells": [
  {
   "cell_type": "code",
   "execution_count": 1,
   "metadata": {},
   "outputs": [
    {
     "name": "stdout",
     "output_type": "stream",
     "text": [
      "ℹ️ Logging set up for story_sage.services.chain at level 30\n",
      "ℹ️ Logging set up for story_sage.services.retriever at level 30\n",
      "ℹ️ Logging set up for story_sage.services.search at level 30\n",
      "ℹ️ Logging set up for story_sage.models.chunk at level 30\n"
     ]
    }
   ],
   "source": [
    "from story_sage import StorySageConfig, StorySageRetriever, StorySageState, StorySageChain\n",
    "import logging\n",
    "from story_sage.utils.junk_drawer import configure_logging\n",
    "import os\n",
    "\n",
    "os.environ['TOKENIZERS_PARALLELISM'] = 'false'\n",
    "\n",
    "loggers_to_watch = [\n",
    "                    'story_sage.services.chain', \n",
    "                    'story_sage.services.retriever', \n",
    "                    'story_sage.services.search',\n",
    "                    'story_sage.models.chunk',\n",
    "                   ]\n",
    "\n",
    "\n",
    "CONFIG_PATH = './config.yml'\n",
    "\n",
    "ssconfig = StorySageConfig.from_file(CONFIG_PATH)\n",
    "selected_series = next(series for series in ssconfig.series if series.series_metadata_name == 'wheel_of_time')\n",
    "\n",
    "retriever = StorySageRetriever(ssconfig)\n",
    "\n",
    "state = StorySageState({\n",
    "    \"question\": \"who is mat?\",\n",
    "    \"book_number\": 11,\n",
    "    \"chapter_number\": 20,\n",
    "    \"series_id\": selected_series.series_id\n",
    "})\n",
    "\n",
    "chain = StorySageChain(ssconfig, state)\n",
    "configure_logging(loggers_to_watch, logging.WARNING)"
   ]
  },
  {
   "cell_type": "code",
   "execution_count": 2,
   "metadata": {},
   "outputs": [],
   "source": [
    "state = chain.invoke()"
   ]
  },
  {
   "cell_type": "code",
   "execution_count": 3,
   "metadata": {},
   "outputs": [
    {
     "name": "stdout",
     "output_type": "stream",
     "text": [
      "Mat Cauthon is a central character in \"The Wheel of Time\" series. He is known for his luck, often described as being ta'veren, which means he has a significant influence on the pattern of the world around him. Mat is characterized by his adventurous spirit, cleverness, and a penchant for gambling and mischief. He is a close friend of Rand al'Thor and Perrin Aybara, and he often finds himself embroiled in the larger events of the world, including political intrigues and battles against darker forces.\n",
      "\n",
      "In the context provided, Mat is currently involved in complex situations related to Aes Sedai, the Seanchan, and his interactions with various women, including Tuon, the Daughter of the Nine Moons. He grapples with his feelings about his role in the unfolding events and the responsibilities that come with being ta'veren. Mat's journey is marked by his attempts to navigate the dangers and challenges he faces while maintaining his sense of identity and agency.\n",
      "\n",
      "\n",
      "Would you like to know more about Mat's relationships with other characters?\n"
     ]
    }
   ],
   "source": [
    "print(state.answer)"
   ]
  },
  {
   "cell_type": "code",
   "execution_count": 4,
   "metadata": {},
   "outputs": [
    {
     "name": "stdout",
     "output_type": "stream",
     "text": [
      "Tuon does not name the horse Mat gives her in the provided context, but she does express her delight in the horse, stating, \"She’s a very-fine animal. Toy. A wonderful gift. Either you have a good eye, or you were very lucky.\" However, she also mentions, \"It is bad luck to name a horse before riding it,\" indicating that she will not name the horse until after she has ridden it. Therefore, the horse remains unnamed at this point in the narrative.\n",
      "\n",
      "\n",
      "Would you like to know more about Mat's feelings regarding giving the horse to Tuon?\n"
     ]
    }
   ],
   "source": [
    "state.question = 'what does tuon name the horse mat gives her?'\n",
    "print(chain.invoke().answer)"
   ]
  }
 ],
 "metadata": {
  "kernelspec": {
   "display_name": "story_sage_env",
   "language": "python",
   "name": "python3"
  },
  "language_info": {
   "codemirror_mode": {
    "name": "ipython",
    "version": 3
   },
   "file_extension": ".py",
   "mimetype": "text/x-python",
   "name": "python",
   "nbconvert_exporter": "python",
   "pygments_lexer": "ipython3",
   "version": "3.11.4"
  }
 },
 "nbformat": 4,
 "nbformat_minor": 2
}
