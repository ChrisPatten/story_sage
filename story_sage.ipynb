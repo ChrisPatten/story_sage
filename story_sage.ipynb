{
 "cells": [
  {
   "cell_type": "code",
   "execution_count": 21,
   "metadata": {},
   "outputs": [
    {
     "name": "stdout",
     "output_type": "stream",
     "text": [
      "MPS backend available\n"
     ]
    }
   ],
   "source": [
    "import os\n",
    "from langchain_openai import ChatOpenAI, OpenAIEmbeddings\n",
    "import faiss\n",
    "from langchain_community.vectorstores import FAISS, InMemoryVectorStore\n",
    "from langchain import hub, PromptTemplate\n",
    "from langchain_core.documents import Document\n",
    "from langchain_text_splitters import RecursiveCharacterTextSplitter\n",
    "from langgraph.graph import START, StateGraph\n",
    "from typing_extensions import List, TypedDict\n",
    "from sentence_transformers import SentenceTransformer\n",
    "import numpy as np\n",
    "import yaml\n",
    "import ipywidgets as widgets\n",
    "from IPython.display import display\n",
    "import httpx\n",
    "import threading\n",
    "import torch\n",
    "import pickle\n",
    "\n",
    "if torch.backends.mps.is_available():\n",
    "    device = torch.device('mps')\n",
    "    print('MPS backend available')\n",
    "else:\n",
    "    device = torch.device('cpu')\n",
    "    print('MPS backend not available. Using CPU')\n",
    "\n",
    "with open('config.yml', 'r') as file:\n",
    "    config = yaml.safe_load(file)\n",
    "\n",
    "os.environ['OPENAI_API_KEY'] = config['OPENAI_API_KEY']\n",
    "\n",
    "llm = ChatOpenAI(model='gpt-4o', http_client = httpx.Client(verify=False))\n",
    "tokenizer = SentenceTransformer('all-MiniLM-L6-v2')\n",
    "tokenizer = tokenizer.to(device)"
   ]
  },
  {
   "cell_type": "code",
   "execution_count": 24,
   "metadata": {},
   "outputs": [
    {
     "name": "stdout",
     "output_type": "stream",
     "text": [
      "Name: 01_the_eye_of_the_world.txt Book Number: 1\n",
      "Name: 06_lord_of_chaos.txt Book Number: 6\n",
      "Name: 07_crown_of_swords.txt Book Number: 7\n",
      "Name: 09_winters_heart.txt Book Number: 9\n",
      "Name: 03_the_dragon_reborn.txt Book Number: 3\n",
      "Name: 05_fires_of_heaven.txt Book Number: 5\n",
      "Name: 04_shadow_rising.txt Book Number: 4\n",
      "Name: 02_the_great_hunt.txt Book Number: 2\n"
     ]
    }
   ],
   "source": [
    "import glob\n",
    "from collections import OrderedDict\n",
    "import re\n",
    "\n",
    "def read_text_file(file_path):\n",
    "    text_dict = OrderedDict()\n",
    "    for file in glob.glob(file_path):\n",
    "        fname = os.path.basename(file)\n",
    "        book_number = int(re.match(r'^(\\d+)_', fname).group(1))\n",
    "        print(f'Name: {fname} Book Number: {book_number}')\n",
    "        with open(file, 'r') as f:\n",
    "            book_info = {'book_number': book_number, 'chapters': {0: []}}\n",
    "            # Remove any line breaks between the word \"chapter\" and following digits\n",
    "            content = f.read()\n",
    "            content = re.sub(r'(CHAPTER)\\s+(\\d+)', r'\\1 \\2', content, flags=re.IGNORECASE)\n",
    "            chapter_number = 0\n",
    "            for line in content.split('\\n'):\n",
    "                line = line.strip()\n",
    "                if len(line) == 0:\n",
    "                    continue\n",
    "                if re.match(r'CHAPTER \\d+', line, re.IGNORECASE):\n",
    "                    chapter_number += 1\n",
    "                    if chapter_number not in book_info['chapters']:\n",
    "                        book_info['chapters'][chapter_number] = []\n",
    "                book_info['chapters'][chapter_number].append(line)\n",
    "            text_dict[fname] = book_info\n",
    "    return text_dict\n",
    "\n",
    "file_path = './books/*.txt'\n",
    "text_dict = read_text_file(file_path)\n",
    "doc_collection = []\n",
    "for book_name, book_info in text_dict.items():\n",
    "    book_number = book_info['book_number']\n",
    "    for chapter_number, chapter_text in book_info['chapters'].items():\n",
    "        for chunk in chapter_text:\n",
    "            chunk = chunk.strip()\n",
    "            if len(chunk) > 0:\n",
    "                doc = Document(\n",
    "                    page_content=chunk,\n",
    "                    metadata={\n",
    "                        'book_number': book_number,\n",
    "                        'chapter_number': chapter_number\n",
    "                    }\n",
    "                )\n",
    "                doc_collection.append(doc)"
   ]
  },
  {
   "cell_type": "code",
   "execution_count": 25,
   "metadata": {},
   "outputs": [],
   "source": [
    "def encode_documents(doc_collection):\n",
    "  # Encode the documents and store the embeddings along with metadata\n",
    "  embeddings = []\n",
    "  metadata = []\n",
    "\n",
    "  for doc in doc_collection:\n",
    "    embedding = tokenizer.encode([doc.page_content])[0]\n",
    "    embeddings.append(embedding)\n",
    "    metadata.append(doc.metadata)\n",
    "\n",
    "  embeddings = np.array(embeddings)\n",
    "\n",
    "  # Create and populate the FAISS index\n",
    "  index = faiss.IndexFlatL2(embeddings.shape[1])\n",
    "  index.add(embeddings)\n",
    "\n",
    "  return index, metadata\n",
    "\n",
    "if True:\n",
    "  index, index_metadata = encode_documents(doc_collection)\n",
    "\n",
    "  # Save the index and index_metadata to disk for further use\n",
    "  faiss.write_index(index, 'index.faiss')\n",
    "  with open('index_metadata.pkl', 'wb') as f:\n",
    "    pickle.dump(index_metadata, f)\n",
    "else:\n",
    "  index = faiss.read_index('index.faiss')\n",
    "  with open('index_metadata.pkl', 'rb') as f:\n",
    "    index_metadata = pickle.load(f)"
   ]
  },
  {
   "cell_type": "code",
   "execution_count": 26,
   "metadata": {},
   "outputs": [],
   "source": [
    "prompt = PromptTemplate(\n",
    "    input_variables=['question', 'context'],\n",
    "    template=\"\"\"\n",
    "HUMAN\n",
    "\n",
    "You are an assistant to help a reader keep track of people, places, and plot points in books.\n",
    "The following pieces of retrieved context are excerpts from the books related to the reader's question. Use them to generate your response.\n",
    "\n",
    "Guidelines for the response:\n",
    "* If you don't know the answer, just say that you don't know. \n",
    "* If you're not sure about something, you can say that you're not sure.\n",
    "* Take as much time as you need to answer the question.\n",
    "* Use as many words as you need to answer the question completely, but don't provide any irrelevant information.\n",
    "* Use bullet points to provide examples from the context that support your answer.\n",
    "\n",
    "Question: {question} \n",
    "Context: {context} \n",
    "Answer:\n",
    "    \"\"\"\n",
    ")\n",
    "\n",
    "def retrieve_chunks(query, index, book_number, chapter_number, top_k=10):\n",
    "    query_embedding = tokenizer.encode([query])\n",
    "    D, I = index.search(np.array(query_embedding), 1000)\n",
    "    relevant_chunks = [\n",
    "        doc_collection[i] for i in I[0]\n",
    "        if int(index_metadata[i]['book_number']) < book_number or\n",
    "           (int(index_metadata[i]['book_number'] == book_number and index_metadata[i]['chapter_number'] < chapter_number))\n",
    "    ]\n",
    "    # sort relevant_chunks by book_number and chapter_number in descending order\n",
    "    relevant_chunks = sorted(relevant_chunks, key=lambda x: (x.metadata['book_number'], x.metadata['chapter_number']), reverse=True)\n",
    "    return relevant_chunks[:top_k]\n",
    "\n",
    "class State(TypedDict):\n",
    "    question: str\n",
    "    context: List[str]\n",
    "    answer: str\n",
    "    book_number: int\n",
    "    chapter_number: int\n",
    "    top_k: int\n",
    "\n",
    "def retrieve(state: State):\n",
    "    retrieved_docs = retrieve_chunks(state['question'], index, state['book_number'], state['chapter_number'], state['top_k'])\n",
    "    state['references'] = retrieved_docs\n",
    "    return {'context': retrieved_docs}\n",
    "\n",
    "def generate(state: State):\n",
    "    docs_content = \"\\n\\n\".join(doc.page_content for doc in state['context'])\n",
    "    messages = prompt.invoke({'question': state['question'], 'context': docs_content})\n",
    "    response = llm.invoke(messages)\n",
    "    return {'answer': response.content}\n",
    "\n",
    "graph_builder = StateGraph(State).add_sequence([retrieve, generate])\n",
    "graph_builder.add_edge(START, 'retrieve')\n",
    "graph = graph_builder.compile()"
   ]
  },
  {
   "cell_type": "code",
   "execution_count": 28,
   "metadata": {},
   "outputs": [
    {
     "data": {
      "application/vnd.jupyter.widget-view+json": {
       "model_id": "c8b30d7751464e0088a4899c9329264a",
       "version_major": 2,
       "version_minor": 0
      },
      "text/plain": [
       "HTML(value=\"<link rel='stylesheet' href='https://cdnjs.cloudflare.com/ajax/libs/font-awesome/4.7.0/css/font-aw…"
      ]
     },
     "metadata": {},
     "output_type": "display_data"
    },
    {
     "data": {
      "application/vnd.jupyter.widget-view+json": {
       "model_id": "1715834b231f4a6d821f6b97caaf4919",
       "version_major": 2,
       "version_minor": 0
      },
      "text/plain": [
       "Output(layout=Layout(min_height='50px'))"
      ]
     },
     "metadata": {},
     "output_type": "display_data"
    },
    {
     "data": {
      "application/vnd.jupyter.widget-view+json": {
       "model_id": "858b25bc456a4e4cb59e9bb98db917ac",
       "version_major": 2,
       "version_minor": 0
      },
      "text/plain": [
       "IntText(value=10, description='Book Number:')"
      ]
     },
     "metadata": {},
     "output_type": "display_data"
    },
    {
     "data": {
      "application/vnd.jupyter.widget-view+json": {
       "model_id": "895f8e9c99e0489cb9edc28cbb60e9a7",
       "version_major": 2,
       "version_minor": 0
      },
      "text/plain": [
       "IntText(value=0, description='Chapter Number:')"
      ]
     },
     "metadata": {},
     "output_type": "display_data"
    },
    {
     "data": {
      "application/vnd.jupyter.widget-view+json": {
       "model_id": "5c9eda307e30403bbcd3642d169acb9b",
       "version_major": 2,
       "version_minor": 0
      },
      "text/plain": [
       "IntText(value=25, description='Top K:')"
      ]
     },
     "metadata": {},
     "output_type": "display_data"
    },
    {
     "data": {
      "application/vnd.jupyter.widget-view+json": {
       "model_id": "b4e895df51114406a6acc94ee2ce4407",
       "version_major": 2,
       "version_minor": 0
      },
      "text/plain": [
       "Text(value='', continuous_update=False, description='Question:', placeholder='Type your question here...')"
      ]
     },
     "metadata": {},
     "output_type": "display_data"
    },
    {
     "data": {
      "application/vnd.jupyter.widget-view+json": {
       "model_id": "491832a2d2084b839322fa4a320a34b7",
       "version_major": 2,
       "version_minor": 0
      },
      "text/plain": [
       "Button(description='Submit', icon='check', style=ButtonStyle(), tooltip='Click to submit your question')"
      ]
     },
     "metadata": {},
     "output_type": "display_data"
    },
    {
     "data": {
      "application/vnd.jupyter.widget-view+json": {
       "model_id": "e9da3168ffea4a5797a58a8412cf428c",
       "version_major": 2,
       "version_minor": 0
      },
      "text/plain": [
       "Output(layout=Layout(min_height='200px'))"
      ]
     },
     "metadata": {},
     "output_type": "display_data"
    },
    {
     "data": {
      "application/vnd.jupyter.widget-view+json": {
       "model_id": "5424da1dadb245b2aa24d39bc78c849e",
       "version_major": 2,
       "version_minor": 0
      },
      "text/plain": [
       "Output(layout=Layout(min_height='200px'))"
      ]
     },
     "metadata": {},
     "output_type": "display_data"
    }
   ],
   "source": [
    "import IPython\n",
    "import markdown\n",
    "\n",
    "# Define the input and output widgets\n",
    "input_box = widgets.Text(\n",
    "    value='',\n",
    "    placeholder='Type your question here...',\n",
    "    description='Question:',\n",
    "    continuous_update=False,\n",
    "    disabled=False\n",
    ")\n",
    "\n",
    "submit_button = widgets.Button(\n",
    "    description='Submit',\n",
    "    disabled=False,\n",
    "    button_style='',\n",
    "    tooltip='Click to submit your question',\n",
    "    icon='check'\n",
    ")\n",
    "\n",
    "book_number_box = widgets.IntText(\n",
    "    value=10,\n",
    "    description='Book Number:',\n",
    "    disabled=False\n",
    ")\n",
    "\n",
    "chapter_number_box = widgets.IntText(\n",
    "    value=None,\n",
    "    description='Chapter Number:',\n",
    "    disabled=False\n",
    ")\n",
    "\n",
    "top_k_box = widgets.IntText(\n",
    "    value=25,\n",
    "    description='Top K:',\n",
    "    disabled=False\n",
    ")\n",
    "\n",
    "status_box = widgets.Output(layout={'min_height': '50px'})\n",
    "output_box = widgets.Output(layout={'min_height': '200px'})\n",
    "context_box = widgets.Output(layout={'min_height': '200px'})\n",
    "\n",
    "# Create a spinner widget\n",
    "spinner = widgets.HTML(\n",
    "    value=\"\"\"<i class=\"fa fa-spinner fa-spin\" style=\"font-size:24px; color:#2a9df4;\"></i>\"\"\",\n",
    "    placeholder='Loading...',\n",
    "    description=''\n",
    ")\n",
    "\n",
    "# Make sure Font Awesome is available\n",
    "display(widgets.HTML(\"<link rel='stylesheet' href='https://cdnjs.cloudflare.com/ajax/libs/font-awesome/4.7.0/css/font-awesome.min.css'>\"))\n",
    "\n",
    "def wrap_answer(answer):\n",
    "    html = markdown.markdown(answer)\n",
    "    return f\"<div style='background-color: #f9f9f9; padding: 10px; border-radius: 5px;'>{html}</div>\"\n",
    "\n",
    "def show_results(state):\n",
    "    with output_box:\n",
    "        output_box.clear_output()\n",
    "        output_box_contents = []\n",
    "        output_box_contents.append(\"<h3>Answer</h3>\")\n",
    "        output_box_contents.append(wrap_answer(state['answer']))\n",
    "        display(widgets.HTML(''.join(output_box_contents)))\n",
    "        with context_box:\n",
    "            context_box.clear_output()\n",
    "            context_box_contents = []\n",
    "            context_box_contents.append(\"<h3>Context</h3>\")\n",
    "            for doc in state['context']:\n",
    "                context_box_contents.append(f\"<p><strong>Book Number:</strong> {doc.metadata['book_number']} <strong>Chapter Number:</strong> {doc.metadata['chapter_number']}</p>\")\n",
    "                context_box_contents.append(f\"<p>{doc.page_content}</p>\")\n",
    "            display(widgets.HTML(wrap_answer(\"\".join(context_box_contents))))\n",
    "\n",
    "def send_query(state):\n",
    "    result = graph.invoke(state)\n",
    "    state['answer'] = result['answer']\n",
    "    state['context'] = result['context']\n",
    "    show_results(state)\n",
    "    \n",
    "\n",
    "# Define the function to handle the button click\n",
    "def submit_question(b):\n",
    "    top_k = top_k_box.value\n",
    "    with status_box:\n",
    "        status_box.clear_output()\n",
    "        display(widgets.HTML(f\"<h3>Retrieving top {top_k} relevant chunks...</h3>\"))\n",
    "        with output_box:\n",
    "            output_box.clear_output()\n",
    "            display(spinner)\n",
    "\n",
    "            state = State(\n",
    "                question=input_box.value,\n",
    "                book_number=book_number_box.value or 1,\n",
    "                chapter_number=chapter_number_box.value or 0,\n",
    "                top_k=top_k_box.value or 10,\n",
    "                context=[],\n",
    "                references=[],\n",
    "                answer=''\n",
    "            )\n",
    "            send_query(state)\n",
    "\n",
    "# Attach the handler to the button\n",
    "submit_button._click_handlers.callbacks.clear()\n",
    "submit_button.on_click(submit_question)\n",
    "\n",
    "# Attach the handler to the input box for the return key\n",
    "input_box.observe(submit_question)\n",
    "\n",
    "# Display the widgets\n",
    "display(status_box, book_number_box, chapter_number_box, top_k_box, input_box, submit_button, output_box, context_box)"
   ]
  }
 ],
 "metadata": {
  "kernelspec": {
   "display_name": "story_sage",
   "language": "python",
   "name": "python3"
  },
  "language_info": {
   "codemirror_mode": {
    "name": "ipython",
    "version": 3
   },
   "file_extension": ".py",
   "mimetype": "text/x-python",
   "name": "python",
   "nbconvert_exporter": "python",
   "pygments_lexer": "ipython3",
   "version": "3.11.4"
  }
 },
 "nbformat": 4,
 "nbformat_minor": 2
}
