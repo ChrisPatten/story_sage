{
 "cells": [
  {
   "cell_type": "code",
   "execution_count": 1,
   "metadata": {},
   "outputs": [],
   "source": [
    "#pip install --no-cache-dir jupyter langchain_openai langchain_community langchain langgraph faiss-cpu sentence-transformers ipywidgets transformers nltk scikit-learn matplotlib markdown langchain_chroma\n",
    "\n",
    "import yaml\n",
    "import ipywidgets as widgets\n",
    "from IPython.display import display\n",
    "import pickle\n",
    "import markdown\n",
    "\n",
    "from story_sage.story_sage import StorySage"
   ]
  },
  {
   "cell_type": "code",
   "execution_count": 5,
   "metadata": {},
   "outputs": [],
   "source": [
    "with open('config.yml', 'r') as file:\n",
    "    config = yaml.safe_load(file)\n",
    "\n",
    "api_key = config['OPENAI_API_KEY']\n",
    "chroma_path = config['CHROMA_PATH']\n",
    "chroma_collection = config['CHROMA_COLLECTION']\n",
    "merged_characters_path = config['MERGED_CHARACTERS_PATH']\n",
    "\n",
    "\n",
    "with open(merged_characters_path, 'rb') as f:\n",
    "    character_dict = pickle.load(f)\n",
    "\n",
    "story_sage = StorySage(api_key=api_key, chroma_path=chroma_path, \n",
    "                       chroma_collection_name=chroma_collection,\n",
    "                       character_dict=character_dict, n_chunks=10)"
   ]
  },
  {
   "cell_type": "code",
   "execution_count": 6,
   "metadata": {},
   "outputs": [
    {
     "data": {
      "text/plain": [
       "(\"Mat finds his spear in a treasure room. Here are some relevant points from the context that support this:\\n\\n- **Location of the Spear**: Mat mentions, “. . . Mat took it from the treasure room,” indicating that he retrieved the spear from this specific location.\\n- **Description of the Spear**: The spear has an unusual design, featuring a two-foot sword blade marked with ravens, which implies it is not an ordinary weapon. This unique quality adds to its significance.\\n- **Mat's Initial Reaction**: After finding the spear, Mat expresses skepticism about its reliability, saying he would not trust it unless he had to, despite its long-lasting qualities.\\n\\nThese points clearly illustrate where Mat found his spear and provide insight into his thoughts and feelings about it.\",\n",
       " {'ids': [['7a7bf3b7-c283-4463-98b3-eebfde59ffa0',\n",
       "    '9168b765-34a4-44e2-8461-759a78c21ffe',\n",
       "    '156ac0b6-2c0e-4ecc-a106-91d951c65f21',\n",
       "    'c4471b75-1e59-457a-928a-26312a451d10',\n",
       "    '0d784036-85fe-48bf-a5ea-4175c58c47f9',\n",
       "    '44e43c32-b972-4e74-bfdf-3c2838727412',\n",
       "    '5757e251-75f6-477b-adea-2bbf38946b90',\n",
       "    '09441ca5-fbed-4d12-9ed6-b72073d46542',\n",
       "    'a78883bd-77eb-4a6d-bc85-d879e227afa9',\n",
       "    '4b14a951-c7a1-4991-a85c-fcf1c9cda65d']],\n",
       "  'embeddings': None,\n",
       "  'documents': [['No seams between lives anymore; he could not tell his memories from the others unless he concentrated. Reaching behind him, he set his wide-brimmed hat on his head and fished the odd spear across his knees. Instead of an ordinary spearhead, it had what looked like a two-foot sword blade, marked with a pair of ravens. Lan said that that blade had been made with the One Power during the War of the Shadow, the War of the Power; the Warder claimed it would never need sharpening and never break. Mat thought he would not trust that unless he had to. It might have lasted three thousand years, but he had little trust of the Power.',\n",
       "    'He desperately needed more answers. A thousand questions, and too few answers. “No answers,” Mat said huskily. “They cheat. And they tried to kill me.” He picked up the medallion, a silver foxhead that almost filled his palm, and after a moment stuffed it into his pocket with a grimace. “I got something out of them, at least.” Pulling the strange spear to him, he ran his fingers along the black shaft. A line of some strange cursive script ran its length, bracketed by a pair of birds inlaid in metal even darker than the wood. Ravens, Rand thought they were. Another pair were engraved on the blade. With a rough wry laugh, Mat levered himself to his feet, half-leaning on the spear, the sword blade beginning just level with his head. He did not bother to lace up his shirt or button his coat. “I’ll keep this, too.',\n",
       "    '“Our search. We prepare for success, but we are as far away as when we began. Does it make sense not to use every weapon at hand? Mat Cauthon is ta’veren, yet we work to avoid him. Why not take him with us? With him, we might find the bowl at last.” “Mat?” Nynaeve exclaimed incredulously. “As well stuff your shift full of nettles!',\n",
       "    'The man had been listening to everything. He would have questions, but he would find no answers. If Rand could not tell Lan Mat’s secrets, he would not spread them before one of the Forsaken, however tame he appeared. This time he deliberately made his tone rough, and pointed the length of spear at the man. “Play it, unless you know a sadder.',\n",
       "    'That was pure Mat Cauthon. In the end, it was a sheer matter of numbers. A dozen Aiel and, if not the whole Band, several hundred who managed to reach the hilltop before it was done. Twelve Aiel dead and, because they were Aiel, half again as many of the Band, with twice that or more bleeding if still alive to groan while they were tended. Even with his brief exposure, Mat stung and bled at half a dozen places, at least three of which he suspected would need stitching. His spear made a good walking staff as he limped around to where Talmanes was stretched out on the ground with Daerid tying a tourniquet around his left leg.',\n",
       "    'At least he had not been babbling in the Old Tongue. Blood and ashes, but I hope I wasn’t! Springing to his feet, Mat turned to go, and found Rand standing just inside the tent, absently twisting that odd bit of tasseled spear as if he did not realize he was holding it. How long had he been there? It did not matter. Mat spilled it all out in a rush. “I’m leaving, Rand.',\n",
       "    '. . Mat took it from the treasure room.”Moiraine looked at him, her eyes seeming to burn as much as Mat’s. He almost stepped back before she turned away again, back to the bed. “I didn’t know until after we were separated. I didn’t know.” “You did not know.” Moiraine studied Mat. He still lay with his knees pulled up to his chest, still snarled soundlessly at her, and his hand yet fought Lan to reach her with the dagger. “It is a wonder you got this far, carrying this.',\n",
       "    '. I don’t know, Lord Rand, except that it’s there.” Rand considered. If Fain and the Darkfriends were here—wherever here was—they might know how to get back. They had to, if they had reached here in the first place. And they had the Horn, and the dagger. Mat had to have that dagger. For that if for nothing else, he had to find them. What finally decided him, he was ashamed to realize, was that he was afraid to try again.',\n",
       "    'The Horn. Fain. Mat and his dagger. Why can’t there just be one at a time? I have to take care of all of them.',\n",
       "    'Mat turned back around sullenly. “Are we just going to keep on walking? It’s in there, I tell you.” “The Horn is what we are after,” Ingtar growled. “I mean to find Fain and make him tell me where it is.” He did not slow down. Mat said nothing, but his entire face was a plea. I have to find Fain, too, Rand thought. I have to. But when he looked at Mat’s face, he said, “Ingtar, if the dagger is in that house, Fain likely is, too. I can’t see him letting the dagger or the Horn, either one, far out of his sight.” Ingtar stopped. After a moment, he said, “It could be, but we will never know from out here.” “We could watch for him to come out,” Rand said. “If he comes out at this time of the morning, then he spent the night there. And I’ll wager where he sleeps is where the Horn is. If he does come out, we can be back to Verin by midday and have a plan made before nightfall.” “I do not mean to wait for Verin,” Ingtar said, “and neither will I wait for night. I’ve waited too long already. I mean to have the Horn in my hands before the sun sets again.” “But we don’t know, Ingtar.” “I know the dagger is in there,” Mat said. “And Hurin says Fain was here last night.” Ingtar overrode Hurin’s attempts to qualify that. “It is the first time you have been willing to say anything closer than a day or two. We are going to take back the Horn now.']],\n",
       "  'uris': None,\n",
       "  'data': None,\n",
       "  'metadatas': [[{'book_number': 5, 'chapter_number': 3},\n",
       "    {'book_number': 4, 'chapter_number': 26},\n",
       "    {'book_number': 7, 'chapter_number': 13},\n",
       "    {'book_number': 5, 'chapter_number': 42},\n",
       "    {'book_number': 6, 'chapter_number': 22},\n",
       "    {'book_number': 5, 'chapter_number': 42},\n",
       "    {'book_number': 1, 'chapter_number': 41},\n",
       "    {'book_number': 2, 'chapter_number': 13},\n",
       "    {'book_number': 2, 'chapter_number': 47},\n",
       "    {'book_number': 2, 'chapter_number': 45}]],\n",
       "  'distances': None,\n",
       "  'included': [<IncludeEnum.documents: 'documents'>,\n",
       "   <IncludeEnum.metadatas: 'metadatas'>]})"
      ]
     },
     "execution_count": 6,
     "metadata": {},
     "output_type": "execute_result"
    }
   ],
   "source": [
    "story_sage.invoke(question='where does mat find his spear?')"
   ]
  },
  {
   "cell_type": "code",
   "execution_count": 3,
   "metadata": {},
   "outputs": [
    {
     "data": {
      "application/vnd.jupyter.widget-view+json": {
       "model_id": "0d4e6798986c4b7b88690f74c989eacb",
       "version_major": 2,
       "version_minor": 0
      },
      "text/plain": [
       "HTML(value=\"<link rel='stylesheet' href='https://cdnjs.cloudflare.com/ajax/libs/font-awesome/4.7.0/css/font-aw…"
      ]
     },
     "metadata": {},
     "output_type": "display_data"
    },
    {
     "data": {
      "application/vnd.jupyter.widget-view+json": {
       "model_id": "7e62da0355794bcdb1464966377b1844",
       "version_major": 2,
       "version_minor": 0
      },
      "text/plain": [
       "Output(layout=Layout(min_height='50px'))"
      ]
     },
     "metadata": {},
     "output_type": "display_data"
    },
    {
     "data": {
      "application/vnd.jupyter.widget-view+json": {
       "model_id": "727387f6271c496c938ba67750a83224",
       "version_major": 2,
       "version_minor": 0
      },
      "text/plain": [
       "IntText(value=10, description='Book Number:')"
      ]
     },
     "metadata": {},
     "output_type": "display_data"
    },
    {
     "data": {
      "application/vnd.jupyter.widget-view+json": {
       "model_id": "f1f70a2f08c84a3489e56144f0688ac6",
       "version_major": 2,
       "version_minor": 0
      },
      "text/plain": [
       "IntText(value=0, description='Chapter Number:')"
      ]
     },
     "metadata": {},
     "output_type": "display_data"
    },
    {
     "data": {
      "application/vnd.jupyter.widget-view+json": {
       "model_id": "af610b720a7541818c027eb54a7f50a2",
       "version_major": 2,
       "version_minor": 0
      },
      "text/plain": [
       "Text(value='', continuous_update=False, description='Question:', placeholder='Type your question here...')"
      ]
     },
     "metadata": {},
     "output_type": "display_data"
    },
    {
     "data": {
      "application/vnd.jupyter.widget-view+json": {
       "model_id": "996743c8d0784a3a992d412177997856",
       "version_major": 2,
       "version_minor": 0
      },
      "text/plain": [
       "Button(description='Submit', icon='check', style=ButtonStyle(), tooltip='Click to submit your question')"
      ]
     },
     "metadata": {},
     "output_type": "display_data"
    },
    {
     "data": {
      "application/vnd.jupyter.widget-view+json": {
       "model_id": "a1ad0725dee5482288a02775b9d0fcd0",
       "version_major": 2,
       "version_minor": 0
      },
      "text/plain": [
       "Output(layout=Layout(min_height='200px'))"
      ]
     },
     "metadata": {},
     "output_type": "display_data"
    },
    {
     "data": {
      "application/vnd.jupyter.widget-view+json": {
       "model_id": "f4d906a15db843679b8294212caca4cb",
       "version_major": 2,
       "version_minor": 0
      },
      "text/plain": [
       "Output(layout=Layout(min_height='200px'))"
      ]
     },
     "metadata": {},
     "output_type": "display_data"
    },
    {
     "ename": "UnboundLocalError",
     "evalue": "cannot access local variable 'answer' where it is not associated with a value",
     "output_type": "error",
     "traceback": [
      "\u001b[0;31m---------------------------------------------------------------------------\u001b[0m",
      "\u001b[0;31mUnboundLocalError\u001b[0m                         Traceback (most recent call last)",
      "Cell \u001b[0;32mIn[3], line 81\u001b[0m, in \u001b[0;36msubmit_question\u001b[0;34m(b)\u001b[0m\n\u001b[1;32m     75\u001b[0m         answer, context \u001b[38;5;241m=\u001b[39m story_sage\u001b[38;5;241m.\u001b[39minvoke(\n\u001b[1;32m     76\u001b[0m             question \u001b[38;5;241m=\u001b[39m input_box\u001b[38;5;241m.\u001b[39mvalue,\n\u001b[1;32m     77\u001b[0m             book_number \u001b[38;5;241m=\u001b[39m book_number_box\u001b[38;5;241m.\u001b[39mvalue,\n\u001b[1;32m     78\u001b[0m             chapter_number \u001b[38;5;241m=\u001b[39m chapter_number_box\u001b[38;5;241m.\u001b[39mvalue\n\u001b[1;32m     79\u001b[0m         )\n\u001b[1;32m     80\u001b[0m         output_box\u001b[38;5;241m.\u001b[39mclear_output()\n\u001b[0;32m---> 81\u001b[0m show_results(\u001b[43manswer\u001b[49m, context)\n",
      "\u001b[0;31mUnboundLocalError\u001b[0m: cannot access local variable 'answer' where it is not associated with a value"
     ]
    }
   ],
   "source": [
    "# Define the input and output widgets\n",
    "input_box = widgets.Text(\n",
    "    value='',\n",
    "    placeholder='Type your question here...',\n",
    "    description='Question:',\n",
    "    continuous_update=False,\n",
    "    disabled=False\n",
    ")\n",
    "\n",
    "submit_button = widgets.Button(\n",
    "    description='Submit',\n",
    "    disabled=False,\n",
    "    button_style='',\n",
    "    tooltip='Click to submit your question',\n",
    "    icon='check'\n",
    ")\n",
    "\n",
    "book_number_box = widgets.IntText(\n",
    "    value=10,\n",
    "    description='Book Number:',\n",
    "    disabled=False\n",
    ")\n",
    "\n",
    "chapter_number_box = widgets.IntText(\n",
    "    value=None,\n",
    "    description='Chapter Number:',\n",
    "    disabled=False\n",
    ")\n",
    "\n",
    "status_box = widgets.Output(layout={'min_height': '50px'})\n",
    "output_box = widgets.Output(layout={'min_height': '200px'})\n",
    "context_box = widgets.Output(layout={'min_height': '200px'})\n",
    "\n",
    "# Create a spinner widget\n",
    "spinner = widgets.HTML(\n",
    "    value=\"\"\"<i class=\"fa fa-spinner fa-spin\" style=\"font-size:24px; color:#2a9df4;\"></i>\"\"\",\n",
    "    placeholder='Loading...',\n",
    "    description=''\n",
    ")\n",
    "\n",
    "# Make sure Font Awesome is available\n",
    "display(widgets.HTML(\"<link rel='stylesheet' href='https://cdnjs.cloudflare.com/ajax/libs/font-awesome/4.7.0/css/font-awesome.min.css'>\"))\n",
    "\n",
    "def wrap_answer(answer):\n",
    "    html = markdown.markdown(answer)\n",
    "    return f\"<div style='background-color: #f9f9f9; padding: 10px; border-radius: 5px;'>{html}</div>\"\n",
    "\n",
    "def show_results(answer, context):\n",
    "    with output_box:\n",
    "        output_box_contents = []\n",
    "        output_box_contents.append(\"<h3>Answer</h3>\")\n",
    "        output_box_contents.append(wrap_answer(answer))\n",
    "        display(widgets.HTML(''.join(output_box_contents)))\n",
    "        with context_box:\n",
    "            context_box.clear_output()\n",
    "            context_box_contents = []\n",
    "            context_box_contents.append(\"<h3>Context</h3>\")\n",
    "            for idx in range(len(context['metadatas'])):\n",
    "                meta = context['metadatas'][0][idx]\n",
    "                content = context['documents'][0][idx]\n",
    "                context_box_contents.append(f\"<p><strong>Book Number:</strong> {meta['book_number']} <strong>Chapter Number:</strong> {meta['chapter_number']}</p>\")\n",
    "                context_box_contents.append(f\"<p>{content}</p>\")\n",
    "            display(widgets.HTML(wrap_answer(\"\".join(context_box_contents))))\n",
    "\n",
    "    \n",
    "\n",
    "# Define the function to handle the button click\n",
    "def submit_question(b):\n",
    "    with status_box:\n",
    "        status_box.clear_output()\n",
    "        display(widgets.HTML(f\"<h3>Retrieving top relevant chunks...</h3>\"))\n",
    "        with output_box:\n",
    "            output_box.clear_output()\n",
    "            display(spinner)\n",
    "            answer, context = story_sage.invoke(\n",
    "                question = input_box.value,\n",
    "                book_number = book_number_box.value,\n",
    "                chapter_number = chapter_number_box.value\n",
    "            )\n",
    "            output_box.clear_output()\n",
    "    show_results(answer, context)\n",
    "\n",
    "# Attach the handler to the button\n",
    "submit_button._click_handlers.callbacks.clear()\n",
    "submit_button.on_click(submit_question)\n",
    "\n",
    "# Attach the handler to the input box for the return key\n",
    "#input_box.observe(submit_question)\n",
    "\n",
    "# Display the widgets\n",
    "display(status_box, book_number_box, chapter_number_box, input_box, submit_button, output_box, context_box)"
   ]
  },
  {
   "cell_type": "code",
   "execution_count": 4,
   "metadata": {},
   "outputs": [
    {
     "data": {
      "text/plain": [
       "{}"
      ]
     },
     "execution_count": 4,
     "metadata": {},
     "output_type": "execute_result"
    }
   ],
   "source": [
    "story_sage.state"
   ]
  }
 ],
 "metadata": {
  "kernelspec": {
   "display_name": "story_sage_env",
   "language": "python",
   "name": "python3"
  },
  "language_info": {
   "codemirror_mode": {
    "name": "ipython",
    "version": 3
   },
   "file_extension": ".py",
   "mimetype": "text/x-python",
   "name": "python",
   "nbconvert_exporter": "python",
   "pygments_lexer": "ipython3",
   "version": "3.11.4"
  }
 },
 "nbformat": 4,
 "nbformat_minor": 2
}
