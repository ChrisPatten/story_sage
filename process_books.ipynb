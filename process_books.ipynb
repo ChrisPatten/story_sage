{
 "cells": [
  {
   "cell_type": "code",
   "execution_count": 1,
   "metadata": {},
   "outputs": [],
   "source": [
    "import os\n",
    "import json\n",
    "from story_sage.utils.chunker import StorySageChunker\n",
    "from tqdm import tqdm\n",
    "import argparse\n",
    "from openai import OpenAI\n",
    "from pydantic import BaseModel\n",
    "from story_sage.data_classes.story_sage_config import StorySageConfig\n",
    "import yaml\n",
    "import httpx\n",
    "from glob import glob\n",
    "from story_sage.utils.embedding import Embedder\n",
    "import chromadb"
   ]
  },
  {
   "cell_type": "code",
   "execution_count": 47,
   "metadata": {},
   "outputs": [],
   "source": [
    "\n",
    "SERIES_NAME = 'harry_potter'\n",
    "BOOK_NUMBERS = [1, 2]\n",
    "\n",
    "def load_config(config_path):\n",
    "    with open(config_path, 'r') as file:\n",
    "        config = yaml.load(file, Loader=yaml.FullLoader)\n",
    "    return config\n",
    "\n",
    "config = StorySageConfig.from_config(load_config('config.yml'))"
   ]
  },
  {
   "cell_type": "code",
   "execution_count": 48,
   "metadata": {},
   "outputs": [],
   "source": [
    "# Create file patterns for each book number\n",
    "file_patterns = []\n",
    "if BOOK_NUMBERS:\n",
    "    file_patterns = [f'./books/{SERIES_NAME}/{str(num).zfill(2)}_*.txt' for num in BOOK_NUMBERS]\n",
    "else:\n",
    "    file_patterns = [f'./books/{SERIES_NAME}/*_*.txt']"
   ]
  },
  {
   "cell_type": "code",
   "execution_count": 4,
   "metadata": {},
   "outputs": [],
   "source": [
    "chunker = StorySageChunker(model_name='all-MiniLM-L6-v2')\n",
    "\n",
    "def create_chunks(pattern):\n",
    "    text_dict = chunker.read_text_files(pattern)\n",
    "    \n",
    "    for _, book_info in text_dict.items():\n",
    "        book_number = book_info['book_number']\n",
    "        for chapter_number, chapter_text in tqdm(book_info['chapters'].items(), desc=f'Processing book {book_number}'):\n",
    "            chapter_text_length = len(''.join(chapter_text).replace(' ', ''))\n",
    "            if chapter_text_length < 100:\n",
    "                continue\n",
    "            # Concatenate the elements in chapter_text\n",
    "            full_text = ' '.join(chapter_text)\n",
    "            chunks = chunker.process_file(\n",
    "                text=full_text,\n",
    "                context_window=4,\n",
    "                percentile_threshold=70,\n",
    "                min_chunk_size=100\n",
    "            )\n",
    "\n",
    "            if not os.path.exists(f'chunks/{SERIES_NAME}'):\n",
    "                os.makedirs(f'chunks/{SERIES_NAME}')\n",
    "            if not os.path.exists(f'chunks/{SERIES_NAME}/bigger_chunks'):\n",
    "                os.makedirs(f'chunks/{SERIES_NAME}/bigger_chunks')\n",
    "            json.dump(chunks, open(f'chunks/{SERIES_NAME}/bigger_chunks/{book_number}_{chapter_number}.json', 'w'), indent=4)"
   ]
  },
  {
   "cell_type": "code",
   "execution_count": 58,
   "metadata": {},
   "outputs": [],
   "source": [
    "client = OpenAI(\n",
    "    api_key=config.openai_api_key, http_client=httpx.Client(verify=False)\n",
    ")\n",
    "\n",
    "class CharacterActions(BaseModel):\n",
    "    character: str\n",
    "    actions: str\n",
    "\n",
    "class ChunkSummary(BaseModel):\n",
    "    summary: str\n",
    "    characters: list[CharacterActions]\n",
    "    locations: list[str]\n",
    "    creatures: list[str]\n",
    "    objects: list[str]\n",
    "\n",
    "def get_summary(text: str):\n",
    "    \"\"\"Gets a summary of the text using GPT-4o\"\"\"\n",
    "    summary_len = round(len(text.split(' ')) / 5)\n",
    "    if summary_len < 50:\n",
    "        summary_len = 50\n",
    "    chat_completion = client.beta.chat.completions.parse(\n",
    "        messages=[\n",
    "            {\n",
    "                \"role\": \"system\",\n",
    "                \"content\": f\"\"\"\n",
    "                    You are an advanced litarary assistant who specializes in \n",
    "                        summarizing chunks from novels to optimize the quality of \n",
    "                        embeddings for a RAG application.\n",
    "                    Please create a concise SUMMARY of the following text,\n",
    "                        paying particular attention to the characters, locations, \n",
    "                        and actions.\n",
    "                    Use simple language and focus on capturing as much meaning \n",
    "                        in as few words as possible to help with the similarity search.\n",
    "                    \n",
    "                    Please extract SUMMARY that should be no longer than {summary_len} words. \n",
    "                    Please extract CHARACTERS along with a brief description of their ACTIONS.\n",
    "                    Please extract LOCATIONS.\n",
    "                    Please extract CREATURES.\n",
    "                    Please extract OBJECTS.\n",
    "                \"\"\"\n",
    "            },\n",
    "            {\n",
    "                \"role\": \"user\",\n",
    "                \"content\": text\n",
    "            }\n",
    "        ],\n",
    "        model=\"gpt-4o-mini\",\n",
    "        response_format=ChunkSummary\n",
    "    )\n",
    "    return chat_completion.choices[0].message.parsed, chat_completion.usage\n"
   ]
  },
  {
   "cell_type": "code",
   "execution_count": 54,
   "metadata": {},
   "outputs": [
    {
     "name": "stderr",
     "output_type": "stream",
     "text": [
      "100%|██████████| 69/69 [00:00<00:00, 574220.19it/s]\n"
     ]
    }
   ],
   "source": [
    "chunks = []\n",
    "\n",
    "filename_pattern = '[' + ','.join([str(num) for num in BOOK_NUMBERS]) + ']' if BOOK_NUMBERS else '*'\n",
    "\n",
    "chunks_filepath = f'./chunks/{SERIES_NAME}/bigger_chunks/{filename_pattern}_*.json'\n",
    "\n",
    "for chunk_filepath in glob(chunks_filepath):\n",
    "    filename = os.path.basename(chunk_filepath)\n",
    "    book_number, chapter_number = filename.split('.')[0].split('_')\n",
    "    with open(chunk_filepath, 'r') as f:\n",
    "        for chunk_idx, chunk in enumerate(json.load(f)):\n",
    "            chunks.append((book_number, chapter_number, chunk_idx, chunk))\n",
    "\n",
    "summaries = []\n",
    "usage = []\n",
    "blank_summary = ChunkSummary(summary='', characters=[], locations=[], creatures=[], objects=[])\n",
    "for chunk in tqdm(chunks):\n",
    "    response, usage_ = blank_summary, 0 #get_summary(chunk[3])\n",
    "    summaries.append((chunk[0], chunk[1], chunk[2], {\n",
    "        'full_chunk': chunk[3],\n",
    "        'summary': response.summary,\n",
    "        'characters': [{character.character: character.actions} for character in response.characters],\n",
    "        'locations': response.locations,\n",
    "        'creatures': response.creatures,\n",
    "        'objects': response.objects\n",
    "    }))\n",
    "    usage.append(usage_)\n"
   ]
  },
  {
   "cell_type": "code",
   "execution_count": 64,
   "metadata": {},
   "outputs": [],
   "source": [
    "def show_summary(summary):\n",
    "\n",
    "    def _get_str(list_):\n",
    "        return '   ' + '\\n    '.join(list_)\n",
    "\n",
    "    response, usage_ = get_summary(summary[3]['full_chunk'])\n",
    "    print(f\"Book: {summary[0]}, Chapter: {summary[1]}, Chunk: {summary[2]}\")\n",
    "    print(f\"Chunk word count: {len(summary[3]['full_chunk'].split(' '))}, Summary word count: {len(response.summary.split(' '))}\")\n",
    "    print('-----------------')\n",
    "    print('Summary:')\n",
    "    print('   ', response.summary)\n",
    "    print('-----------------')\n",
    "    print('Characters:')\n",
    "    for character in response.characters:\n",
    "        print(f\"    {character.character}: {character.actions}\")\n",
    "    print('-----------------')\n",
    "    print('Locations:\\n', _get_str(response.locations))\n",
    "    print('-----------------')\n",
    "    print('Creatures:\\n', _get_str(response.creatures))\n",
    "    print('-----------------')\n",
    "    print('Objects:\\n', _get_str(response.objects))\n",
    "    print('-----------------')\n",
    "    print('Chunk:\\n   ', summary[3]['full_chunk'])"
   ]
  },
  {
   "cell_type": "code",
   "execution_count": 72,
   "metadata": {},
   "outputs": [
    {
     "name": "stdout",
     "output_type": "stream",
     "text": [
      "Book: 1, Chapter: 5, Chunk: 1\n",
      "Chunk word count: 2718, Summary word count: 108\n",
      "-----------------\n",
      "Summary:\n",
      "    Harry Potter travels to Diagon Alley with Hagrid after receiving a letter about his acceptance to Hogwarts. They arrive by boat and discuss magical creatures like dragons and the Ministry of Magic. Hagrid helps Harry navigate the Muggle world, struggling with public transport. They enter the Leaky Cauldron, where Harry is greeted as a celebrity. Hagrid introduces Harry to several magical characters, including Professor Quirrell. They head to Gringotts to access Harry's vault, encountering goblins and learning about vault security. Hagrid retrieves a letter from Dumbledore regarding a mysterious object in vault 713. They take a wild cart ride deeper into the bank, passing beautiful but dangerous sights.\n",
      "-----------------\n",
      "Characters:\n",
      "    Harry Potter: Curious about magic, follows Hagrid and engages in discussions about dragons and the Ministry of Magic.\n",
      "    Hagrid: Guides Harry to Diagon Alley using magic, introduces Harry to the wizarding world, and handles Harry's banking needs.\n",
      "    Professor Quirrell: Introduces himself to Harry; teaches Defense Against the Dark Arts.\n",
      "    Griphook: Leads Harry and Hagrid into Gringotts and assists with their banking.\n",
      "    Doris Crockford: Excitedly meets and greets Harry, expressing pride.\n",
      "    Dedalus Diggle: Speaks to Harry with excitement upon meeting him.\n",
      "    Tom (Bartender): Recognizes Harry and greets him warmly.\n",
      "-----------------\n",
      "Locations:\n",
      "    Boat dock\n",
      "    Gringotts\n",
      "    Hogwarts\n",
      "    Diagon Alley\n",
      "    Leaky Cauldron\n",
      "-----------------\n",
      "Creatures:\n",
      "    Goblins\n",
      "    Dragons\n",
      "-----------------\n",
      "Objects:\n",
      "    Pink umbrella\n",
      "    Hogwarts acceptance letter\n",
      "    Gringotts key\n",
      "    Canary-yellow circus tent\n",
      "    Various wands, cauldrons, books, and spell ingredients\n",
      "-----------------\n",
      "Chunk:\n",
      "    Fetchin’ you — gettin’ things from Gringotts — knows he can trust me, see. “Got everythin’? Come on, then.” Harry followed Hagrid out onto the rock. The sky was quite clear now and the sea gleamed in the sunlight. The boat Uncle Vernon had hired was still there, with a lot of water in the bottom after the storm. “How did you get here?” Harry asked, looking around for another boat. “Flew,” said Hagrid. “Flew?” “Yeah — but we’ll go back in this. Not s’pposed ter use magic now I’ve got yeh.” They settled down in the boat, Harry still staring at Hagrid, trying to imagine him flying. “Seems a shame ter row, though,” said Hagrid, giving Harry another of his sideways looks. “If I was ter — er — speed things up a bit, would yeh mind not mentionin’ it at Hogwarts?” “Of course not,” said Harry, eager to see more magic. Hagrid pulled out the pink umbrella again, tapped it twice on the side of the boat, and they sped off toward land. “Why would you be mad to try and rob Gringotts?” Harry asked. “Spells — enchantments,” said Hagrid, unfolding his newspaper as he spoke. “They say there’s dragons guardin’ the high-security vaults. And then yeh gotta find yer way — Gringotts is hundreds of miles under London, see. Deep under the Underground. Yeh’d die of hunger tryin’ ter get out, even if yeh did manage ter get yer hands on summat.” Harry sat and thought about this while Hagrid read his newspaper, the Daily Prophet. Harry had learned from Uncle Vernon that people liked to be left alone while they did this, but it was very difficult, he’d never had so many questions in his life. “Ministry o’ Magic messin’ things up as usual,” Hagrid muttered, turning the page. “There’s a Ministry of Magic?” Harry asked, before he could stop himself. “ ’Course,” said Hagrid. “They wanted Dumbledore fer Minister, o’ course, but he’d never leave Hogwarts, so old Cornelius Fudge got the job. Bungler if ever there was one. So he pelts Dumbledore with owls every morning, askin’ fer advice.” “But what does a Ministry of Magic do?” “Well, their main job is to keep it from the Muggles that there’s still witches an’ wizards up an’ down the country.” “Why?” “Why? Blimey, Harry, everyone’d be wantin’ magic solutions to their problems. Nah, we’re best left alone.” At this moment the boat bumped gently into the harbor wall. Hagrid folded up his newspaper, and they clambered up the stone steps onto the street. Passersby stared a lot at Hagrid as they walked through the little town to the station. Harry couldn’t blame them. Not only was Hagrid twice as tall as anyone else, he kept pointing at perfectly ordinary things like parking meters and saying loudly, “See that, Harry? Things these Muggles dream up, eh?” “Hagrid,” said Harry, panting a bit as he ran to keep up, “did you say there are dragons at Gringotts?” “Well, so they say,” said Hagrid. “Crikey, I’d like a dragon.” “You’d like one?” “Wanted one ever since I was a kid — here we go.” They had reached the station. There was a train to London in five minutes’ time. Hagrid, who didn’t understand “Muggle money,” as he called it, gave the bills to Harry so he could buy their tickets. People stared more than ever on the train. Hagrid took up two seats and sat knitting what looked like a canary-yellow circus tent. “Still got yer letter, Harry?” he asked as he counted stitches. Harry took the parchment envelope out of his pocket. “Good,” said Hagrid. “There’s a list there of everything yeh need.” Harry unfolded a second piece of paper he hadn’t noticed the night before, and read: HOGWARTS SCHOOL of WITCHCRAFT and WIZARDRY UNIFORM First-year students will require: 1. Three sets of plain work robes (black) 2. One plain pointed hat (black) for day wear 3. One pair of protective gloves (dragon hide or similar) 4. One winter cloak (black, silver fastenings) Please note that all pupils’ clothes should carry name tags COURSE BOOKS All students should have a copy of each of the following: The Standard Book of Spells (Grade 1) by Miranda Goshawk A History of Magic by Bathilda Bagshot Magical Theory by Adalbert Waffling A Beginners’ Guide to Transfiguration by Emeric Switch One Thousand Magical Herbs and Fungi by Phyllida Spore Magical Drafts and Potions by Arsenius Jigger Fantastic Beasts and Where to Find Them by Newt Scamander The Dark Forces: A Guide to Self-Protection by Quentin Trimble OTHER EQUIPMENT 1 wand 1 cauldron (pewter, standard size 2) 1 set glass or crystal phials 1 telescope 1 set brass scales Students may also bring an owl OR a cat OR a toad PARENTS ARE REMINDED THAT FIRST YEARS ARE NOT ALLOWED THEIR OWN BROOMSTICKS “Can we buy all this in London?” Harry wondered aloud. “If yeh know where to go,” said Hagrid. Harry had never been to London before. Although Hagrid seemed to know where he was going, he was obviously not used to getting there in an ordinary way. He got stuck in the ticket barrier on the Underground, and complained loudly that the seats were too small and the trains too slow. “I don’t know how the Muggles manage without magic,” he said as they climbed a broken-down escalator that led up to a bustling road lined with shops. Hagrid was so huge that he parted the crowd easily; all Harry had to do was keep close behind him. They passed book shops and music stores, hamburger restaurants and cinemas, but nowhere that looked as if it could sell you a magic wand. This was just an ordinary street full of ordinary people. Could there really be piles of wizard gold buried miles beneath them? Were there really shops that sold spell books and broomsticks? Might this not all be some huge joke that the Dursleys had cooked up? If Harry hadn’t known that the Dursleys had no sense of humor, he might have thought so; yet somehow, even though everything Hagrid had told him so far was unbelievable, Harry couldn’t help trusting him. “This is it,” said Hagrid, coming to a halt, “the Leaky Cauldron. It’s a famous place.” It was a tiny, grubby-looking pub. If Hagrid hadn’t pointed it out, Harry wouldn’t have noticed it was there. The people hurrying by didn’t glance at it. Their eyes slid from the big book shop on one side to the record shop on the other as if they couldn’t see the Leaky Cauldron at all. In fact, Harry had the most peculiar feeling that only he and Hagrid could see it. Before he could mention this, Hagrid had steered him inside. For a famous place, it was very dark and shabby. A few old women were sitting in a corner, drinking tiny glasses of sherry. One of them was smoking a long pipe. A little man in a top hat was talking to the old bartender, who was quite bald and looked like a toothless walnut. The low buzz of chatter stopped when they walked in. Everyone seemed to know Hagrid; they waved and smiled at him, and the bartender reached for a glass, saying, “The usual, Hagrid?” “Can’t, Tom, I’m on Hogwarts business,” said Hagrid, clapping his great hand on Harry’s shoulder and making Harry’s knees buckle. “Good Lord,” said the bartender, peering at Harry, “is this — can this be — ?” The Leaky Cauldron had suddenly gone completely still and silent. “Bless my soul,” whispered the old bartender, “Harry Potter … what an honor.” He hurried out from behind the bar, rushed toward Harry and seized his hand, tears in his eyes. “Welcome back, Mr. Potter, welcome back.” Harry didn’t know what to say. Everyone was looking at him. The old woman with the pipe was puffing on it without realizing it had gone out. Hagrid was beaming. Then there was a great scraping of chairs and the next moment, Harry found himself shaking hands with everyone in the Leaky Cauldron. “Doris Crockford, Mr. Potter, can’t believe I’m meeting you at last.” “So proud, Mr. Potter, I’m just so proud.” “Always wanted to shake your hand — I’m all of a flutter.” “Delighted, Mr. Potter, just can’t tell you, Diggle’s the name, Dedalus Diggle.” “I’ve seen you before!” said Harry, as Dedalus Diggle’s top hat fell off in his excitement. “You bowed to me once in a shop.” “He remembers!” cried Dedalus Diggle, looking around at everyone. “Did you hear that? He remembers me!” Harry shook hands again and again — Doris Crockford kept coming back for more. A pale young man made his way forward, very nervously. One of his eyes was twitching. “Professor Quirrell!” said Hagrid. “Harry, Professor Quirrell will be one of your teachers at Hogwarts.” “P-P-Potter,” stammered Professor Quirrell, grasping Harry’s hand, “c-can’t t-tell you how p-pleased I am to meet you.” “What sort of magic do you teach, Professor Quirrell?” “D-Defense Against the D-D-Dark Arts,” muttered Professor Quirrell, as though he’d rather not think about it. “N-not that you n-need it, eh, P-P-Potter?” He laughed nervously. “You’ll be g-getting all your equipment, I suppose? I’ve g-got to p-pick up a new b-book on vampires, m-myself.” He looked terrified at the very thought. But the others wouldn’t let Professor Quirrell keep Harry to himself. It took almost ten minutes to get away from them all. At last, Hagrid managed to make himself heard over the babble. “Must get on — lots ter buy. Come on, Harry.” Doris Crockford shook Harry’s hand one last time, and Hagrid led them through the bar and out into a small, walled courtyard, where there was nothing but a trash can and a few weeds. Hagrid grinned at Harry. “Told yeh, didn’t I? Told yeh you was famous. Even Professor Quirrell was tremblin’ ter meet yeh — mind you, he’s usually tremblin’.” “Is he always that nervous?” “Oh, yeah. Poor bloke. Brilliant mind. He was fine while he was studyin’ outta books but then he took a year off ter get some firsthand experience. … They say he met vampires in the Black Forest, and there was a nasty bit o’ trouble with a hag — never been the same since. Scared of the students, scared of his own subject — now, where’s me umbrella?” Vampires? Hags? Harry’s head was swimming. Hagrid, meanwhile, was counting bricks in the wall above the trash can. “Three up … two across …” he muttered. “Right, stand back, Harry.” He tapped the wall three times with the point of his umbrella. The brick he had touched quivered — it wriggled — in the middle, a small hole appeared — it grew wider and wider — a second later they were facing an archway large enough even for Hagrid, an archway onto a cobbled street that twisted and turned out of sight. “Welcome,” said Hagrid, “to Diagon Alley.” He grinned at Harry’s amazement. They stepped through the archway. Harry looked quickly over his shoulder and saw the archway shrink instantly back into solid wall. The sun shone brightly on a stack of cauldrons outside the nearest shop. Cauldrons — All Sizes — Copper, Brass, Pewter, Silver — Self-Stirring — Collapsible, said a sign hanging over them. “Yeah, you’ll be needin’ one,” said Hagrid, “but we gotta get yer money first.” Harry wished he had about eight more eyes. He turned his head in every direction as they walked up the street, trying to look at everything at once: the shops, the things outside them, the people doing their shopping. A plump woman outside an Apothecary was shaking her head as they passed, saying, “Dragon liver, sixteen Sickles an ounce, they’re mad.” A low, soft hooting came from a dark shop with a sign saying Eeylops Owl Emporium — Tawny, Screech, Barn, Brown, and Snowy. Several boys of about Harry’s age had their noses pressed against a window with broomsticks in it. “Look,” Harry heard one of them say, “the new Nimbus Two Thousand — fastest ever —” There were shops selling robes, shops selling telescopes and strange silver instruments Harry had never seen before, windows stacked with barrels of bat spleens and eels’ eyes, tottering piles of spell books, quills, and rolls of parchment, potion bottles, globes of the moon. … “Gringotts,” said Hagrid. They had reached a snowy white building that towered over the other little shops. Standing beside its burnished bronze doors, wearing a uniform of scarlet and gold, was — “Yeah, that’s a goblin,” said Hagrid quietly as they walked up the white stone steps toward him. The goblin was about a head shorter than Harry. He had a swarthy, clever face, a pointed beard and, Harry noticed, very long fingers and feet. He bowed as they walked inside. Now they were facing a second pair of doors, silver this time, with words engraved upon them: Enter, stranger, but take heed Of what awaits the sin of greed, For those who take, but do not earn, Must pay most dearly in their turn. So if you seek beneath our floors A treasure that was never yours, Thief, you have been warned, beware Of finding more than treasure there. “Like I said, yeh’d be mad ter try an’ rob it,” said Hagrid. A pair of goblins bowed them through the silver doors and they were in a vast marble hall. About a hundred more goblins were sitting on high stools behind a long counter, scribbling in large ledgers, weighing coins in brass scales, examining precious stones through eyeglasses. There were too many doors to count leading off the hall, and yet more goblins were showing people in and out of these. Hagrid and Harry made for the counter. “Morning,” said Hagrid to a free goblin. “We’ve come ter take some money outta Mr. Harry Potter’s safe.” “You have his key, sir?” “Got it here somewhere,” said Hagrid, and he started emptying his pockets onto the counter, scattering a handful of moldy dog biscuits over the goblins book of numbers. The goblin wrinkled his nose. Harry watched the goblin on their right weighing a pile of rubies as big as glowing coals. “Got it,” said Hagrid at last, holding up a tiny golden key. The goblin looked at it closely. “That seems to be in order.” “An’ I’ve also got a letter here from Professor Dumbledore,” said Hagrid importantly, throwing out his chest. “It’s about the You-Know-What in vault seven hundred and thirteen.” The goblin read the letter carefully. “Very well,” he said, handing it back to Hagrid, “I will have someone take you down to both vaults. Griphook!” Griphook was yet another goblin. Once Hagrid had crammed all the dog biscuits back inside his pockets, he and Harry followed Griphook toward one of the doors leading off the hall. “What’s the You-Know-What in vault seven hundred and thirteen?” Harry asked. “Can’t tell yeh that,” said Hagrid mysteriously. “Very secret. Hogwarts business. Dumbledore’s trusted me. More’n my job’s worth ter tell yeh that.” Griphook held the door open for them. Harry, who had expected more marble, was surprised. They were in a narrow stone passageway lit with flaming torches. It sloped steeply downward and there were little railway tracks on the floor. Griphook whistled and a small cart came hurtling up the tracks toward them. They climbed in — Hagrid with some difficulty — and were off. At first they just hurtled through a maze of twisting passages. Harry tried to remember, left, right, right, left, middle fork, right, left, but it was impossible. The rattling cart seemed to know its own way, because Griphook wasn’t steering. Harry’s eyes stung as the cold air rushed past them, but he kept them wide open. Once, he thought he saw a burst of fire at the end of a passage and twisted around to see if it was a dragon, but too late — they plunged even deeper, passing an underground lake where huge stalactites and stalagmites grew from the ceiling and floor. “I never know,” Harry called to Hagrid over the noise of the cart, “what’s the difference between a stalagmite and a stalactite?” “Stalagmite’s got an ‘m’ in it,” said Hagrid.\n"
     ]
    }
   ],
   "source": [
    "show_summary(summaries[47])"
   ]
  },
  {
   "cell_type": "code",
   "execution_count": 69,
   "metadata": {},
   "outputs": [
    {
     "data": {
      "text/plain": [
       "69"
      ]
     },
     "execution_count": 69,
     "metadata": {},
     "output_type": "execute_result"
    }
   ],
   "source": [
    "len(summaries)"
   ]
  },
  {
   "cell_type": "code",
   "execution_count": 75,
   "metadata": {},
   "outputs": [
    {
     "name": "stdout",
     "output_type": "stream",
     "text": [
      "(1, 1, 0, {'full_chunk': ' An Empty Road The Wheel of Time turns, and Ages come and pass, leaving memories that become legend. Legend fades to myth, and even myth is long forgotten when the Age that gave it birth comes again. In one Age, called the Third Age by some, an Age yet to come, an Age long past, a wind rose in the Mountains of Mist. The wind was not the beginning. There are neither beginnings nor endings to the turning of the Wheel of Time. But it was a beginning. Born below the ever cloud-capped peaks that gave the mountains their name, the wind blew east, out across the Sand Hills, once the shore of a great ocean, before the Breaking of the World. Down it flailed into the Two Rivers, into the tangled forest called the Westwood, and beat at two men walking with a cart and horse down the rock-strewn track called the Quarry Road. For all that spring should have come a good month since, the wind carried an icy chill as if it would rather bear snow. Gusts plastered Rand al’Thor’s cloak to his back, whipped the earth-colored wool around his legs, then streamed it out behind him. He wished his coat were heavier, or that he had worn an extra shirt. Half the time when he tried to tug the cloak back around him it caught on the quiver swinging at his hip. Trying to hold the cloak one-handed did not do much good anyway; he had his bow in the other, an arrow nocked and ready to draw. As a particularly strong blast tugged the cloak out of his hand, he glanced at his father over the back of the shaggy brown mare.', 'summary': 'The Wheel of Time turns through Ages, where memories fade from legend to myth. In the Third Age, a wind rises in the Mountains of Mist, chilling Rand al’Thor as he walks down the Quarry Road with his father, armed with a bow and arrow, feeling the cold despite it being spring.', 'characters': [{'Rand al’Thor': 'Walks down the Quarry Road with his father, holding a bow with an arrow nocked.'}, {\"Rand's father\": 'Walks beside Rand, guiding the cart and horse.'}], 'locations': ['Mountains of Mist', 'Sand Hills', 'Two Rivers', 'Westwood', 'Quarry Road'], 'creatures': [], 'objects': ['bow', 'arrow', 'cloak', 'cart', 'horse']})\n"
     ]
    }
   ],
   "source": [
    "import pickle\n",
    "\n",
    "with open('chunks/wheel_of_time/summaries/summaries.pkl', 'rb') as file:\n",
    "    wheel_of_time_summaries = pickle.load(file)\n",
    "\n",
    "print(wheel_of_time_summaries[3])"
   ]
  },
  {
   "cell_type": "code",
   "execution_count": 78,
   "metadata": {},
   "outputs": [
    {
     "name": "stdout",
     "output_type": "stream",
     "text": [
      "167\n"
     ]
    }
   ],
   "source": [
    "character_keys = set()\n",
    "\n",
    "for summary in wheel_of_time_summaries:\n",
    "    for character in summary[3]['characters']:\n",
    "        character_keys.update(character.keys())\n",
    "\n",
    "print(len(character_keys))"
   ]
  },
  {
   "cell_type": "code",
   "execution_count": 85,
   "metadata": {},
   "outputs": [
    {
     "name": "stdout",
     "output_type": "stream",
     "text": [
      "Loaded 823 summaries.\n"
     ]
    }
   ],
   "source": [
    "import glob\n",
    "import json\n",
    "\n",
    "# Define the path pattern for the summary files\n",
    "summary_files_pattern = './chunks/harry_potter/summaries/*.json'\n",
    "\n",
    "# Initialize an empty list to store the summaries\n",
    "harry_potter_summaries = []\n",
    "\n",
    "# Iterate over each file that matches the pattern\n",
    "for summary_file in glob.glob(summary_files_pattern):\n",
    "    with open(summary_file, 'r') as file:\n",
    "        filename = os.path.basename(summary_file)\n",
    "        book_number, chapter_name = filename.split('.')[0].split('_')\n",
    "        summary_data = json.load(file)\n",
    "        for chunk_idx, summary in enumerate(summary_data):\n",
    "            harry_potter_summaries.append((book_number, chapter_name, chunk_idx, summary))\n",
    "\n",
    "print(f\"Loaded {len(harry_potter_summaries)} summaries.\")"
   ]
  },
  {
   "cell_type": "code",
   "execution_count": 87,
   "metadata": {},
   "outputs": [],
   "source": [
    "\n",
    "with open('./chunks/harry_potter/summaries/summaries_1-2-3-4-5-6-7.pkl', 'wb') as file:\n",
    "    pickle.dump(harry_potter_summaries, file)"
   ]
  },
  {
   "cell_type": "code",
   "execution_count": null,
   "metadata": {},
   "outputs": [],
   "source": []
  }
 ],
 "metadata": {
  "kernelspec": {
   "display_name": "story_sage_env",
   "language": "python",
   "name": "python3"
  },
  "language_info": {
   "codemirror_mode": {
    "name": "ipython",
    "version": 3
   },
   "file_extension": ".py",
   "mimetype": "text/x-python",
   "name": "python",
   "nbconvert_exporter": "python",
   "pygments_lexer": "ipython3",
   "version": "3.11.4"
  }
 },
 "nbformat": 4,
 "nbformat_minor": 2
}
