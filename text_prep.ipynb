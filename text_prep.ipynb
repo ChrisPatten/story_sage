{
 "cells": [
  {
   "cell_type": "code",
   "execution_count": 7,
   "metadata": {},
   "outputs": [],
   "source": [
    "import pandas as pd\n",
    "import pickle\n",
    "import glob\n",
    "from sentence_transformers import SentenceTransformer\n",
    "from sklearn.metrics.pairwise import cosine_similarity\n",
    "import numpy as np\n",
    "\n",
    "# Load all .pkl files in the current directory\n",
    "pkl_files = glob.glob('0*.pkl')\n",
    "loaded_data = [pickle.load(open(file, 'rb')) for file in pkl_files]"
   ]
  },
  {
   "cell_type": "code",
   "execution_count": 8,
   "metadata": {},
   "outputs": [],
   "source": [
    "min_len = 3\n",
    "\n",
    "def get_character_set(book_name: str, book_number: str) -> pd.DataFrame:\n",
    "  df_entities = pd.read_csv(f'./booknlp/output/{book_name}.entities', sep='\\t')\n",
    "  df_entities = df_entities[(df_entities['cat'] == 'PER') & (df_entities['prop'] == 'PROP')]\n",
    "  df_entities['text'] = df_entities['text'].str.lower()\n",
    "  df_entities = df_entities.rename(columns={'COREF': 'character_id', 'text': 'characters'})\n",
    "  df_entities['character_id'] = book_number + '_' + df_entities['character_id'].astype(str)\n",
    "  df_entities = df_entities.groupby('character_id')['characters'].apply(lambda x: list(set(x))).reset_index()\n",
    "  df_entities = df_entities[df_entities['characters'].apply(lambda x: len(x) >= min_len)]\n",
    "  return df_entities"
   ]
  },
  {
   "cell_type": "code",
   "execution_count": 9,
   "metadata": {},
   "outputs": [],
   "source": [
    "eye_of_the_world_characters = get_character_set('the_eye_of_the_world', '01')\n",
    "great_hunt_characters = get_character_set('02_the_great_hunt', '02')\n",
    "dragon_reborn_characters = get_character_set('03_the_dragon_reborn', '03')\n",
    "shadow_rising_characters = get_character_set('04_shadow_rising', '04')\n",
    "fires_of_heaven_characters = get_character_set('05_fires_of_heaven', '05')\n",
    "lord_of_chaos_characters = get_character_set('06_lord_of_chaos', '06')\n",
    "crown_of_swords_characters = get_character_set('07_crown_of_swords', '07')\n",
    "path_of_daggers_characters = get_character_set('08_the_path_of_daggers', '08')\n",
    "winter_heart_characters = get_character_set('09_winters_heart', '09')\n",
    "# crossroads_of_twilight_characters = get_character_set('10_crossroads_of_twilight', '10')\n",
    "# knife_of_dreams_characters = get_character_set('11_knife_of_dreams', '11')\n",
    "# gathering_storm_characters = get_character_set('12_the_gathering_storm', '12')\n",
    "# towers_of_midnight_characters = get_character_set('13_towers_of_midnight', '13')\n",
    "# memory_of_light_characters = get_character_set('14_a_memory_of_light', '14')\n"
   ]
  },
  {
   "cell_type": "code",
   "execution_count": 10,
   "metadata": {},
   "outputs": [],
   "source": [
    "# Initialize the SentenceTransformer model\n",
    "model = SentenceTransformer('all-MiniLM-L6-v2')\n",
    "model = model.to('mps')"
   ]
  },
  {
   "cell_type": "code",
   "execution_count": 11,
   "metadata": {},
   "outputs": [],
   "source": [
    "# Function to merge characters based on similarity\n",
    "def merge_characters(df1, df2, threshold=0.8):\n",
    "    merged_characters = {}\n",
    "    df2_merged_ids = set()\n",
    "    similarity_scores = []\n",
    "    # Encode characters in each dataframe\n",
    "    df1['embeddings'] = df1['characters'].apply(lambda x: model.encode(x))\n",
    "    df2['embeddings'] = df2['characters'].apply(lambda x: model.encode(x))\n",
    "\n",
    "\n",
    "    for idx1, row1 in df1.iterrows():\n",
    "        characters1 = row1['characters']\n",
    "        embeddings1 = np.mean(row1['embeddings'], axis=0)\n",
    "        primary_character_id = row1['character_id']\n",
    "\n",
    "        # Create a row for the character_id from the first dataframe\n",
    "        merged_characters[primary_character_id] = set(characters1)\n",
    "\n",
    "        for idx2, row2 in df2.iterrows():\n",
    "            characters2 = row2['characters']\n",
    "            embeddings2 =  np.mean(row2['embeddings'], axis=0)\n",
    "\n",
    "            # Calculate cosine similarity between embeddings\n",
    "            similarity_matrix = cosine_similarity(embeddings1.reshape(1, -1), embeddings2.reshape(1, -1))\n",
    "            similarity_score = similarity_matrix[0][0]\n",
    "            similarity_scores.append(similarity_score)\n",
    "\n",
    "            # Merge characters if similarity is above the threshold\n",
    "            if similarity_score > threshold:\n",
    "                merged_characters[primary_character_id].update(characters2)\n",
    "                df2_merged_ids.update(row2['character_id'])\n",
    "\n",
    "    # Add characters from the second dataframe that were not merged\n",
    "    for idx, row in df2.iterrows():\n",
    "        if row['character_id'] not in df2_merged_ids:\n",
    "            merged_characters[row['character_id']] = set(row['characters'])\n",
    "\n",
    "    return merged_characters\n"
   ]
  },
  {
   "cell_type": "code",
   "execution_count": 12,
   "metadata": {},
   "outputs": [],
   "source": [
    "first_merge = merge_characters(eye_of_the_world_characters, great_hunt_characters)\n",
    "merged_df = pd.DataFrame([(k, list(v)) for k, v in first_merge.items()], columns=['character_id', 'characters'])\n",
    "second_merge = merge_characters(merged_df, dragon_reborn_characters)\n",
    "merged_df = pd.DataFrame([(k, list(v)) for k, v in second_merge.items()], columns=['character_id', 'characters'])\n",
    "third_merge = merge_characters(merged_df, shadow_rising_characters)\n",
    "merged_df = pd.DataFrame([(k, list(v)) for k, v in third_merge.items()], columns=['character_id', 'characters'])\n",
    "fourth_merge = merge_characters(merged_df, fires_of_heaven_characters)\n",
    "merged_df = pd.DataFrame([(k, list(v)) for k, v in fourth_merge.items()], columns=['character_id', 'characters'])\n",
    "fifth_merge = merge_characters(merged_df, lord_of_chaos_characters)\n",
    "merged_df = pd.DataFrame([(k, list(v)) for k, v in fifth_merge.items()], columns=['character_id', 'characters'])\n",
    "sixth_merge = merge_characters(merged_df, crown_of_swords_characters)\n",
    "merged_df = pd.DataFrame([(k, list(v)) for k, v in sixth_merge.items()], columns=['character_id', 'characters'])\n",
    "seventh_merge = merge_characters(merged_df, path_of_daggers_characters)\n",
    "merged_df = pd.DataFrame([(k, list(v)) for k, v in seventh_merge.items()], columns=['character_id', 'characters'])\n",
    "eighth_merge = merge_characters(merged_df, winter_heart_characters)"
   ]
  },
  {
   "cell_type": "code",
   "execution_count": 13,
   "metadata": {},
   "outputs": [],
   "source": [
    "# Save the merged characters to a .pkl file\n",
    "pickle.dump(eighth_merge, open('merged_characters.pkl', 'wb'))"
   ]
  }
 ],
 "metadata": {
  "kernelspec": {
   "display_name": "story_sage_env",
   "language": "python",
   "name": "python3"
  },
  "language_info": {
   "codemirror_mode": {
    "name": "ipython",
    "version": 3
   },
   "file_extension": ".py",
   "mimetype": "text/x-python",
   "name": "python",
   "nbconvert_exporter": "python",
   "pygments_lexer": "ipython3",
   "version": "3.11.4"
  }
 },
 "nbformat": 4,
 "nbformat_minor": 2
}
