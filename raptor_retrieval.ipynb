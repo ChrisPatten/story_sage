{
 "cells": [
  {
   "cell_type": "code",
   "execution_count": 1,
   "metadata": {},
   "outputs": [
    {
     "name": "stdout",
     "output_type": "stream",
     "text": [
      "Processing ./chunks/wheel_of_time/raptor_chunks/wheel_of_time_06_07.json.gz\n",
      "Processing ./chunks/wheel_of_time/raptor_chunks/wheel_of_time_11.json.gz\n",
      "Processing ./chunks/wheel_of_time/raptor_chunks/wheel_of_time_01.json.gz\n",
      "Processing ./chunks/wheel_of_time/raptor_chunks/wheel_of_time_10.json.gz\n",
      "Processing ./chunks/wheel_of_time/raptor_chunks/wheel_of_time_04_05.json.gz\n",
      "Processing ./chunks/wheel_of_time/raptor_chunks/wheel_of_time_12.json.gz\n",
      "Processing ./chunks/wheel_of_time/raptor_chunks/wheel_of_time_02_03.json.gz\n",
      "Processing ./chunks/wheel_of_time/raptor_chunks/wheel_of_time_13.json.gz\n",
      "Processing ./chunks/wheel_of_time/raptor_chunks/wheel_of_time_9.json.gz\n",
      "Processing ./chunks/wheel_of_time/raptor_chunks/wheel_of_time_8.json.gz\n"
     ]
    }
   ],
   "source": [
    "from story_sage import *\n",
    "import os\n",
    "import glob\n",
    "from story_sage.utils.raptor import _RaptorResults\n",
    "from pprint import pprint\n",
    "import logging\n",
    "import markdown\n",
    "from IPython.display import HTML\n",
    "\n",
    "logging.basicConfig(level=logging.WARN)\n",
    "\n",
    "logger = logging.getLogger()\n",
    "logger.addHandler(logging.StreamHandler())\n",
    "\n",
    "os.environ['TOKENIZERS_PARALLELISM'] = \"false\"\n",
    "\n",
    "config_path = './config.yml'\n",
    "ssconfig = StorySageConfig.from_file(config_path)\n",
    "selected_series = next(series for series in ssconfig.series if series.series_metadata_name == 'wheel_of_time')\n",
    "\n",
    "processed_file_name = './chunks/wheel_of_time/raptor_chunks/*.json.gz'\n",
    "\n",
    "retriever = StorySageRetriever(chroma_path=ssconfig.chroma_path, chroma_collection_name=ssconfig.raptor_collection, n_chunks=15)\n",
    "\n",
    "for file_name in glob.iglob(processed_file_name):\n",
    "    print(f\"Processing {file_name}\")\n",
    "    #retriever.load_processed_files(file_name, selected_series.series_id)"
   ]
  },
  {
   "cell_type": "code",
   "execution_count": 4,
   "metadata": {},
   "outputs": [],
   "source": [
    "conversation = StorySageConversation()\n",
    "\n",
    "state = StorySageState(\n",
    "    question=None,\n",
    "    book_number=11,\n",
    "    chapter_number=1,\n",
    "    series_id=selected_series.series_id,\n",
    "    conversation=conversation,\n",
    ")\n",
    "chain = StorySageChain(config=ssconfig, state=state, log_level=logging.WARN)\n",
    "\n",
    "def ask_question(question: str):\n",
    "    chain.state.question = question\n",
    "    result = chain.invoke()\n",
    "    conversation.add_turn(question=question, response=result.answer, context=result.context)\n",
    "    chain.state.conversation = conversation\n",
    "    return HTML(f'<div style=\"max-width:1000px;\">{markdown.markdown(result.answer)}</div>')"
   ]
  },
  {
   "cell_type": "code",
   "execution_count": 5,
   "metadata": {},
   "outputs": [
    {
     "data": {
      "text/html": [
       "<div style=\"max-width:1000px;\"><p>Are there specific chapters or passages in the book series that mention the Tuatha'an or their philosophy that you would like me to look at?</p></div>"
      ],
      "text/plain": [
       "<IPython.core.display.HTML object>"
      ]
     },
     "execution_count": 5,
     "metadata": {},
     "output_type": "execute_result"
    }
   ],
   "source": [
    "ask_question(\"Tell me about the philosophy of the tua'ath'an\")"
   ]
  },
  {
   "cell_type": "code",
   "execution_count": 6,
   "metadata": {},
   "outputs": [
    {
     "data": {
      "text/html": [
       "<div style=\"max-width:1000px;\"><p>The Tuatha'an, also known as the Traveling People or Tinkers, adhere to a philosophy that emphasizes non-violence and the belief that one can oppose evil without resorting to harm. This philosophy is encapsulated in their Way of the Leaf, which teaches that violence harms both the perpetrator and the victim. Here are some key points about their beliefs and how these influence their behavior:</p>\n",
       "<ul>\n",
       "<li>\n",
       "<p><strong>Non-Violence</strong>: The Tuatha'an believe that it is better to flee from those who would harm them rather than to defend themselves with violence. This belief stems from the idea that engaging in violence would make them no different from those they oppose (Book 1, Chapter 30).</p>\n",
       "</li>\n",
       "<li>\n",
       "<p><strong>Harm to the Spirit</strong>: They contend that violence does not only physically harm the victim but also dulls the spirit of the one who commits the act. This perspective leads them to avoid confrontations and seek peaceful resolutions whenever possible (Book 1, Chapter 25).</p>\n",
       "</li>\n",
       "<li>\n",
       "<p><strong>Strength of Belief</strong>: The Tuatha'an are firm in their convictions that their strength lies in their belief system rather than physical might. They believe that their faith and principles can combat evil effectively without the need for weapons or violence (Book 3, Chapter 1).</p>\n",
       "</li>\n",
       "<li>\n",
       "<p><strong>Fleeing Rather Than Fighting</strong>: Their philosophy often leads them to flee from danger, believing that it is better to live and seek safety than to confront an enemy head-on. This behavior can sometimes put them at odds with others who believe in fighting back (Book 3, Chapter 1).</p>\n",
       "</li>\n",
       "<li>\n",
       "<p><strong>Cultural Isolation</strong>: Because of their beliefs, the Tuatha'an often face prejudice and misunderstanding from others, leading to a nomadic lifestyle where they are sometimes viewed with suspicion by settled communities (Book 1, Chapter 5).</p>\n",
       "</li>\n",
       "</ul>\n",
       "<p>Overall, the philosophy of the Tuatha'an shapes their identity as a peaceful people who prioritize harmony and the sanctity of life over conflict, which significantly influences their interactions with the world around them.</p></div>"
      ],
      "text/plain": [
       "<IPython.core.display.HTML object>"
      ]
     },
     "execution_count": 6,
     "metadata": {},
     "output_type": "execute_result"
    }
   ],
   "source": [
    "ask_question(\"no, just tell me about what they believe in and how it influences their behavior\")"
   ]
  },
  {
   "cell_type": "code",
   "execution_count": 7,
   "metadata": {},
   "outputs": [
    {
     "data": {
      "text/html": [
       "<div style=\"max-width:1000px;\"><p>Are there specific chapters or details in the book that discuss the dietary habits of the Tuatha'an?</p></div>"
      ],
      "text/plain": [
       "<IPython.core.display.HTML object>"
      ]
     },
     "execution_count": 7,
     "metadata": {},
     "output_type": "execute_result"
    }
   ],
   "source": [
    "ask_question(\"do they eat meat?\")"
   ]
  },
  {
   "cell_type": "code",
   "execution_count": 11,
   "metadata": {},
   "outputs": [
    {
     "name": "stdout",
     "output_type": "stream",
     "text": [
      "(\"HUMAN: Tell me about the philosophy of the tua'ath'an\\n\"\n",
      " 'COMPUTER: Are there specific chapters or passages in the book series that '\n",
      " \"mention the Tuatha'an or their philosophy that you would like me to look \"\n",
      " 'at?\\n'\n",
      " 'HUMAN: no, just tell me about what they believe in and how it influences '\n",
      " 'their behavior\\n'\n",
      " \"COMPUTER: The Tuatha'an, also known as the Traveling People or Tinkers, \"\n",
      " 'adhere to a philosophy that emphasizes non-violence and the belief that one '\n",
      " 'can oppose evil without resorting to harm. This philosophy is encapsulated '\n",
      " 'in their Way of the Leaf, which teaches that violence harms both the '\n",
      " 'perpetrator and the victim. Here are some key points about their beliefs and '\n",
      " 'how these influence their behavior:\\n'\n",
      " '\\n'\n",
      " \"- **Non-Violence**: The Tuatha'an believe that it is better to flee from \"\n",
      " 'those who would harm them rather than to defend themselves with violence. '\n",
      " 'This belief stems from the idea that engaging in violence would make them no '\n",
      " 'different from those they oppose (Book 1, Chapter 30).\\n'\n",
      " '\\n'\n",
      " '- **Harm to the Spirit**: They contend that violence does not only '\n",
      " 'physically harm the victim but also dulls the spirit of the one who commits '\n",
      " 'the act. This perspective leads them to avoid confrontations and seek '\n",
      " 'peaceful resolutions whenever possible (Book 1, Chapter 25).\\n'\n",
      " '\\n'\n",
      " \"- **Strength of Belief**: The Tuatha'an are firm in their convictions that \"\n",
      " 'their strength lies in their belief system rather than physical might. They '\n",
      " 'believe that their faith and principles can combat evil effectively without '\n",
      " 'the need for weapons or violence (Book 3, Chapter 1).\\n'\n",
      " '\\n'\n",
      " '- **Fleeing Rather Than Fighting**: Their philosophy often leads them to '\n",
      " 'flee from danger, believing that it is better to live and seek safety than '\n",
      " 'to confront an enemy head-on. This behavior can sometimes put them at odds '\n",
      " 'with others who believe in fighting back (Book 3, Chapter 1).\\n'\n",
      " '\\n'\n",
      " \"- **Cultural Isolation**: Because of their beliefs, the Tuatha'an often face \"\n",
      " 'prejudice and misunderstanding from others, leading to a nomadic lifestyle '\n",
      " 'where they are sometimes viewed with suspicion by settled communities (Book '\n",
      " '1, Chapter 5).\\n'\n",
      " '\\n'\n",
      " \"Overall, the philosophy of the Tuatha'an shapes their identity as a peaceful \"\n",
      " 'people who prioritize harmony and the sanctity of life over conflict, which '\n",
      " 'significantly influences their interactions with the world around them.\\n'\n",
      " 'HUMAN: do they eat meat?\\n'\n",
      " 'COMPUTER: Are there specific chapters or details in the book that discuss '\n",
      " \"the dietary habits of the Tuatha'an?\")\n"
     ]
    }
   ],
   "source": [
    "pprint(chain.state.conversation.__str__())"
   ]
  }
 ],
 "metadata": {
  "kernelspec": {
   "display_name": "story_sage_env",
   "language": "python",
   "name": "python3"
  },
  "language_info": {
   "codemirror_mode": {
    "name": "ipython",
    "version": 3
   },
   "file_extension": ".py",
   "mimetype": "text/x-python",
   "name": "python",
   "nbconvert_exporter": "python",
   "pygments_lexer": "ipython3",
   "version": "3.11.4"
  }
 },
 "nbformat": 4,
 "nbformat_minor": 2
}
