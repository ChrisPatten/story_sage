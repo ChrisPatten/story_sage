{
 "cells": [
  {
   "cell_type": "code",
   "execution_count": 13,
   "metadata": {},
   "outputs": [],
   "source": [
    "import yaml\n",
    "from story_sage.utils.embedding import load_chunk_from_disk, update_tagged_entities, Embedder\n",
    "import chromadb\n",
    "import glob\n",
    "from story_sage.utils.local_entity_extractor import StorySageEntityExtractor\n",
    "from story_sage.story_sage_entity import StorySageEntityCollection\n",
    "from story_sage.vector_store import StorySageRetriever\n"
   ]
  },
  {
   "cell_type": "code",
   "execution_count": 2,
   "metadata": {},
   "outputs": [],
   "source": [
    "with open('config.yml', 'r') as file:\n",
    "    config = yaml.safe_load(file)\n",
    "\n",
    "api_key = config['OPENAI_API_KEY']\n",
    "chroma_path = config['CHROMA_PATH']\n",
    "chroma_collection = config['CHROMA_COLLECTION']\n",
    "series_path = config['SERIES_PATH']\n",
    "\n",
    "TARGET_SERIES_ID = 3 # wheel of time\n",
    "TARGET_BOOK_NUMBER = 2"
   ]
  },
  {
   "cell_type": "code",
   "execution_count": 3,
   "metadata": {},
   "outputs": [],
   "source": [
    "# Load series.yml to create a mapping from series_metadata_name to series_id\n",
    "with open(series_path, 'r') as file:\n",
    "    series_list = yaml.safe_load(file)\n",
    "\n",
    "target_series_info = next(series for series in series_list if series['series_id'] == TARGET_SERIES_ID)\n",
    "\n",
    "series_metadata_name = target_series_info['series_metadata_name']"
   ]
  },
  {
   "cell_type": "code",
   "execution_count": 4,
   "metadata": {},
   "outputs": [],
   "source": [
    "chunks_path = f'./chunks/{series_metadata_name}/semantic_chunks/{TARGET_BOOK_NUMBER}_*.pkl'\n",
    "\n",
    "chunks = []\n",
    "\n",
    "for chunk_path in glob.glob(chunks_path):\n",
    "    chunks.extend(load_chunk_from_disk(chunk_path))"
   ]
  },
  {
   "cell_type": "code",
   "execution_count": 5,
   "metadata": {},
   "outputs": [],
   "source": [
    "with open(f'./entities/{series_metadata_name}/entities.json', 'r') as file:\n",
    "    entity_collection = StorySageEntityCollection.from_json(file.read())"
   ]
  },
  {
   "cell_type": "code",
   "execution_count": 6,
   "metadata": {},
   "outputs": [],
   "source": [
    "chroma_client = chromadb.PersistentClient(path=config['CHROMA_PATH'])\n",
    "embedder = Embedder()\n",
    "\n",
    "#chroma_client.delete_collection(config['CHROMA_COLLECTION'])  # Delete the collection if it already exists\n",
    "\n",
    "# Get or create a collection in the vector store\n",
    "vector_store = chroma_client.get_or_create_collection(\n",
    "    name=config['CHROMA_COLLECTION'],\n",
    "    embedding_function=embedder\n",
    ")"
   ]
  },
  {
   "cell_type": "code",
   "execution_count": 7,
   "metadata": {},
   "outputs": [
    {
     "data": {
      "application/vnd.jupyter.widget-view+json": {
       "model_id": "370a8f275ec94e21be5682020376e3c8",
       "version_major": 2,
       "version_minor": 0
      },
      "text/plain": [
       "Updating tagged entities: 0it [00:00, ?it/s]"
      ]
     },
     "metadata": {},
     "output_type": "display_data"
    }
   ],
   "source": [
    "update_tagged_entities(vector_store=vector_store, entity_collection=entity_collection, series_id=TARGET_SERIES_ID, book_number=TARGET_BOOK_NUMBER)"
   ]
  },
  {
   "cell_type": "code",
   "execution_count": 14,
   "metadata": {},
   "outputs": [],
   "source": [
    "retriever = StorySageRetriever(chroma_path=chroma_path, chroma_collection_name=chroma_collection, entities=entity_collection)"
   ]
  },
  {
   "cell_type": "code",
   "execution_count": null,
   "metadata": {},
   "outputs": [],
   "source": [
    "\n",
    "#extractor = StorySageEntityExtractor(series = target_series_info, device='mps', existing_collection=entity_collection, similarity_threshold=0.5)\n",
    "\n",
    "#entity_collection: StorySageEntityCollection = extractor.get_grouped_entities(chunks)"
   ]
  },
  {
   "cell_type": "code",
   "execution_count": 9,
   "metadata": {},
   "outputs": [],
   "source": [
    "#entity_json = entity_collection.to_json()\n",
    "#with open(f'./entities/{series_metadata_name}/entities.json', 'w') as file:\n",
    "#    file.write(entity_json)"
   ]
  }
 ],
 "metadata": {
  "kernelspec": {
   "display_name": "story_sage_env",
   "language": "python",
   "name": "python3"
  },
  "language_info": {
   "codemirror_mode": {
    "name": "ipython",
    "version": 3
   },
   "file_extension": ".py",
   "mimetype": "text/x-python",
   "name": "python",
   "nbconvert_exporter": "python",
   "pygments_lexer": "ipython3",
   "version": "3.11.4"
  }
 },
 "nbformat": 4,
 "nbformat_minor": 2
}
