{
 "cells": [
  {
   "cell_type": "code",
   "execution_count": 1,
   "metadata": {},
   "outputs": [],
   "source": [
    "import yaml\n",
    "from story_sage.utils.embedding import load_chunk_from_disk\n",
    "import glob\n",
    "from story_sage.utils.local_entity_extractor import StorySageEntityExtractor\n",
    "from story_sage.story_sage_entity import StorySageEntityCollection\n"
   ]
  },
  {
   "cell_type": "code",
   "execution_count": 2,
   "metadata": {},
   "outputs": [],
   "source": [
    "with open('config.yml', 'r') as file:\n",
    "    config = yaml.safe_load(file)\n",
    "\n",
    "api_key = config['OPENAI_API_KEY']\n",
    "chroma_path = config['CHROMA_PATH']\n",
    "chroma_collection = config['CHROMA_COLLECTION']\n",
    "series_path = config['SERIES_PATH']\n",
    "\n",
    "TARGET_SERIES_ID = 3 # wheel of time\n",
    "TARGET_BOOK_NUMBER = 2"
   ]
  },
  {
   "cell_type": "code",
   "execution_count": 3,
   "metadata": {},
   "outputs": [],
   "source": [
    "# Load series.yml to create a mapping from series_metadata_name to series_id\n",
    "with open(series_path, 'r') as file:\n",
    "    series_list = yaml.safe_load(file)\n",
    "\n",
    "target_series_info = next(series for series in series_list if series['series_id'] == TARGET_SERIES_ID)\n",
    "\n",
    "series_metadata_name = target_series_info['series_metadata_name']"
   ]
  },
  {
   "cell_type": "code",
   "execution_count": 4,
   "metadata": {},
   "outputs": [],
   "source": [
    "chunks_path = f'./chunks/{series_metadata_name}/semantic_chunks/{TARGET_BOOK_NUMBER}_*.pkl'\n",
    "\n",
    "chunks = []\n",
    "\n",
    "for chunk_path in glob.glob(chunks_path):\n",
    "    chunks.extend(load_chunk_from_disk(chunk_path))"
   ]
  },
  {
   "cell_type": "code",
   "execution_count": 5,
   "metadata": {},
   "outputs": [],
   "source": [
    "with open(f'./entities/{series_metadata_name}/entities.json', 'r') as file:\n",
    "    entity_collection = StorySageEntityCollection.from_json(file.read())"
   ]
  },
  {
   "cell_type": "code",
   "execution_count": 8,
   "metadata": {},
   "outputs": [
    {
     "data": {
      "application/vnd.jupyter.widget-view+json": {
       "model_id": "67d0960eab7448b2bb6444931a83f473",
       "version_major": 2,
       "version_minor": 0
      },
      "text/plain": [
       "Fetching 4 files:   0%|          | 0/4 [00:00<?, ?it/s]"
      ]
     },
     "metadata": {},
     "output_type": "display_data"
    },
    {
     "data": {
      "application/vnd.jupyter.widget-view+json": {
       "model_id": "870dd0b278904878862675f535000f58",
       "version_major": 2,
       "version_minor": 0
      },
      "text/plain": [
       "Extracting entities from chunks:   0%|          | 0/2125 [00:00<?, ?it/s]"
      ]
     },
     "metadata": {},
     "output_type": "display_data"
    },
    {
     "name": "stderr",
     "output_type": "stream",
     "text": [
      "Asking to truncate to max_length but no maximum length is provided and the model has no predefined maximum length. Default to no truncation.\n"
     ]
    },
    {
     "data": {
      "application/vnd.jupyter.widget-view+json": {
       "model_id": "fb3838dfc3334a5b8fc99441a3f2184e",
       "version_major": 2,
       "version_minor": 0
      },
      "text/plain": [
       "Grouping entities:   0%|          | 0/1662 [00:00<?, ?it/s]"
      ]
     },
     "metadata": {},
     "output_type": "display_data"
    }
   ],
   "source": [
    "\n",
    "extractor = StorySageEntityExtractor(series = target_series_info, device='mps', existing_collection=entity_collection, similarity_threshold=0.5)\n",
    "\n",
    "entity_collection: StorySageEntityCollection = extractor.get_grouped_entities(chunks)"
   ]
  },
  {
   "cell_type": "code",
   "execution_count": 9,
   "metadata": {},
   "outputs": [],
   "source": [
    "entity_json = entity_collection.to_json()\n",
    "with open(f'./entities/{series_metadata_name}/entities.json', 'w') as file:\n",
    "    file.write(entity_json)"
   ]
  }
 ],
 "metadata": {
  "kernelspec": {
   "display_name": "story_sage_env",
   "language": "python",
   "name": "python3"
  },
  "language_info": {
   "codemirror_mode": {
    "name": "ipython",
    "version": 3
   },
   "file_extension": ".py",
   "mimetype": "text/x-python",
   "name": "python",
   "nbconvert_exporter": "python",
   "pygments_lexer": "ipython3",
   "version": "3.11.4"
  }
 },
 "nbformat": 4,
 "nbformat_minor": 2
}
